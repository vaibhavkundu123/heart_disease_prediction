{
 "cells": [
  {
   "cell_type": "code",
   "execution_count": null,
   "metadata": {},
   "outputs": [],
   "source": []
  },
  {
   "cell_type": "code",
   "execution_count": 14,
   "metadata": {},
   "outputs": [],
   "source": [
    "import pandas as pd\n",
    "from sklearn.datasets import load_iris\n",
    "from sklearn.model_selection import train_test_split\n",
    "from sklearn.preprocessing import StandardScaler\n",
    "from sklearn.neighbors import KNeighborsRegressor\n",
    "from sklearn.metrics import mean_squared_error,mean_absolute_error"
   ]
  },
  {
   "cell_type": "code",
   "execution_count": 9,
   "metadata": {},
   "outputs": [
    {
     "name": "stdout",
     "output_type": "stream",
     "text": [
      "     sepal length (cm)  sepal width (cm)  petal length (cm)  petal width (cm)\n",
      "0                  5.1               3.5                1.4               0.2\n",
      "1                  4.9               3.0                1.4               0.2\n",
      "2                  4.7               3.2                1.3               0.2\n",
      "3                  4.6               3.1                1.5               0.2\n",
      "4                  5.0               3.6                1.4               0.2\n",
      "..                 ...               ...                ...               ...\n",
      "145                6.7               3.0                5.2               2.3\n",
      "146                6.3               2.5                5.0               1.9\n",
      "147                6.5               3.0                5.2               2.0\n",
      "148                6.2               3.4                5.4               2.3\n",
      "149                5.9               3.0                5.1               1.8\n",
      "\n",
      "[150 rows x 4 columns]\n"
     ]
    }
   ],
   "source": [
    "data=load_iris()\n",
    "\n",
    "df=pd.DataFrame(data.data,columns=data.feature_names)\n",
    "print(df)"
   ]
  },
  {
   "cell_type": "code",
   "execution_count": null,
   "metadata": {},
   "outputs": [
    {
     "data": {
      "text/plain": [
       "0      0.2\n",
       "1      0.2\n",
       "2      0.2\n",
       "3      0.2\n",
       "4      0.2\n",
       "      ... \n",
       "145    2.3\n",
       "146    1.9\n",
       "147    2.0\n",
       "148    2.3\n",
       "149    1.8\n",
       "Name: petal width (cm), Length: 150, dtype: float64"
      ]
     },
     "execution_count": 11,
     "metadata": {},
     "output_type": "execute_result"
    }
   ],
   "source": [
    "x=df.drop(columns=['petal width (cm)'])\n",
    "y=df['petal width (cm)']\n"
   ]
  },
  {
   "cell_type": "code",
   "execution_count": null,
   "metadata": {},
   "outputs": [
    {
     "name": "stdout",
     "output_type": "stream",
     "text": [
      "[[ 0.35451684 -0.58505976  0.55777524]\n",
      " [-0.13307079  1.65083742 -1.16139502]\n",
      " [ 2.30486738 -1.0322392   1.8185001 ]\n",
      " [ 0.23261993 -0.36147005  0.44316389]\n",
      " [ 1.2077952  -0.58505976  0.61508092]\n",
      " [-0.49876152  0.75647855 -1.27600637]\n",
      " [-0.2549677  -0.36147005 -0.07258719]\n",
      " [ 1.32969211  0.08570939  0.78699794]\n",
      " [ 0.47641375 -1.92659808  0.44316389]\n",
      " [-0.01117388 -0.80864948  0.09932984]\n",
      " [ 0.84210448  0.30929911  0.78699794]\n",
      " [-1.23014297 -0.13788033 -1.33331205]\n",
      " [-0.37686461  0.98006827 -1.39061772]\n",
      " [-1.10824606  0.08570939 -1.27600637]\n",
      " [-0.86445224  1.65083742 -1.27600637]\n",
      " [ 0.59831066  0.53288883  0.55777524]\n",
      " [ 0.84210448 -0.13788033  1.18813767]\n",
      " [-0.2549677  -1.25582892  0.09932984]\n",
      " [-0.13307079 -0.58505976  0.44316389]\n",
      " [ 0.72020757 -0.58505976  1.07352632]\n",
      " [-1.35203988  0.30929911 -1.2187007 ]\n",
      " [ 0.35451684 -0.13788033  0.67238659]\n",
      " [-0.98634915  0.75647855 -1.2187007 ]\n",
      " [ 0.72020757 -0.58505976  1.07352632]\n",
      " [ 2.5486612   1.65083742  1.53197172]\n",
      " [ 1.08589829 -0.13788033  0.84430362]\n",
      " [ 1.08589829 -1.25582892  1.18813767]\n",
      " [ 1.2077952   0.30929911  1.24544335]\n",
      " [-1.23014297 -0.13788033 -1.33331205]\n",
      " [-1.23014297  0.08570939 -1.2187007 ]]\n"
     ]
    }
   ],
   "source": [
    "x_train,x_test,y_train,y_test=train_test_split(x,y,test_size=0.2,random_state=42)\n",
    "\n",
    "scaler=StandardScaler()\n",
    "x_train_scaled=scaler.fit_transform(x_train)\n",
    "x_test_scaled=scaler.transform(x_test)\n",
    "\n",
    "model=KNeighborsRegressor(n_neighbors=5)\n",
    "model.fit(x_train_scaled,y_train)\n",
    "y_predict=model.predict(x_test_scaled)\n",
    "\n",
    "import joblib\n",
    "\n",
    "\n",
    "\n"
   ]
  },
  {
   "cell_type": "code",
   "execution_count": null,
   "metadata": {},
   "outputs": [
    {
     "data": {
      "text/plain": [
       "array([1.56666667, 0.33333333, 1.9       , 1.36666667, 1.5       ,\n",
       "       0.2       , 1.3       , 1.7       , 1.26666667, 1.16666667,\n",
       "       1.86666667, 0.2       , 0.2       , 0.2       , 0.33333333,\n",
       "       1.8       , 1.86666667, 1.13333333, 1.53333333, 1.73333333,\n",
       "       0.2       , 1.53333333, 0.33333333, 1.73333333, 2.16666667,\n",
       "       1.93333333, 1.76666667, 2.3       , 0.2       , 0.2       ])"
      ]
     },
     "execution_count": 18,
     "metadata": {},
     "output_type": "execute_result"
    }
   ],
   "source": [
    "from sklearn.pipeline import Pipeline\n",
    "\n",
    "pipe=Pipeline([('scaler',StandardScaler()),   \n",
    "               ('knn',KNeighborsRegressor(n_neighbors=3))])\n",
    "pipe.fit(x_train,y_train)\n",
    "\n",
    "y_predict_pipe=pipe.predict(x_test)"
   ]
  },
  {
   "cell_type": "code",
   "execution_count": 19,
   "metadata": {},
   "outputs": [
    {
     "data": {
      "text/plain": [
       "['pipeline.pkl']"
      ]
     },
     "execution_count": 19,
     "metadata": {},
     "output_type": "execute_result"
    }
   ],
   "source": [
    "import joblib \n",
    "\n",
    "joblib.dump(pipe,'pipeline.pkl')"
   ]
  },
  {
   "cell_type": "code",
   "execution_count": null,
   "metadata": {},
   "outputs": [],
   "source": [
    "l_pipeline=joblib.load('pipeline.pkl')\n",
    "predictions=l_pipeline.predict(x_test)"
   ]
  },
  {
   "cell_type": "code",
   "execution_count": null,
   "metadata": {},
   "outputs": [],
   "source": []
  }
 ],
 "metadata": {
  "kernelspec": {
   "display_name": "Python 3",
   "language": "python",
   "name": "python3"
  },
  "language_info": {
   "codemirror_mode": {
    "name": "ipython",
    "version": 3
   },
   "file_extension": ".py",
   "mimetype": "text/x-python",
   "name": "python",
   "nbconvert_exporter": "python",
   "pygments_lexer": "ipython3",
   "version": "3.11.9"
  }
 },
 "nbformat": 4,
 "nbformat_minor": 2
}
