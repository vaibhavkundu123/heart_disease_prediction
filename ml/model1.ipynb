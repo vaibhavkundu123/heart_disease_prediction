{
 "cells": [
  {
   "cell_type": "markdown",
   "metadata": {},
   "source": [
    "**Import Necessary Libraries**"
   ]
  },
  {
   "cell_type": "code",
   "execution_count": 99,
   "metadata": {},
   "outputs": [
    {
     "name": "stdout",
     "output_type": "stream",
     "text": [
      "Libraries imported successfully.\n"
     ]
    }
   ],
   "source": [
    "# Importing required libraries for data manipulation, model training, and evaluation\n",
    "import pandas as pd\n",
    "import numpy as np\n",
    "from sklearn.model_selection import train_test_split\n",
    "from sklearn.preprocessing import StandardScaler, LabelEncoder\n",
    "from sklearn.metrics import accuracy_score, classification_report, confusion_matrix\n",
    "import matplotlib.pyplot as plt\n",
    "import seaborn as sns\n",
    "from tensorflow.keras.models import Model\n",
    "from tensorflow.keras.layers import Dense, Conv1D, MaxPooling1D, Flatten, Dropout, BatchNormalization, Add, Input\n",
    "from tensorflow.keras.regularizers import l2\n",
    "from tensorflow.keras.optimizers import Adam\n",
    "from tensorflow.keras.callbacks import EarlyStopping, ModelCheckpoint, ReduceLROnPlateau\n",
    "from tensorflow.keras.utils import to_categorical\n",
    "from sklearn.neighbors import KNeighborsClassifier\n",
    "from sklearn.ensemble import RandomForestClassifier\n",
    "from imblearn.over_sampling import SMOTE\n",
    "from sklearn.model_selection import GridSearchCV\n",
    "from xgboost import XGBClassifier\n",
    "\n",
    "# Confirm libraries are loaded\n",
    "print(\"Libraries imported successfully.\")\n"
   ]
  },
  {
   "cell_type": "markdown",
   "metadata": {},
   "source": [
    "**Load Dataset**"
   ]
  },
  {
   "cell_type": "code",
   "execution_count": 100,
   "metadata": {},
   "outputs": [
    {
     "name": "stdout",
     "output_type": "stream",
     "text": [
      "Dataset loaded. Here are the first few rows:\n",
      "  Patient_ID  Height_cm  Weight_kg Blood_Pressure  Temperature_C  Heart_Rate  \\\n",
      "0      P0001      174.0       59.0         120/80           36.6        63.0   \n",
      "1      P0002        NaN       67.0         130/85           37.0        68.0   \n",
      "2      P0003      176.0       58.0         140/90           37.0        65.0   \n",
      "3      P0004      185.0       65.0         125/82           37.2        69.0   \n",
      "4      P0005      167.0       41.0         135/88           36.3        72.0   \n",
      "\n",
      "              Symptoms Existing_Conditions      Disease_Predictions  \\\n",
      "0           chest pain            Diabetes            Heart Disease   \n",
      "1  shortness of breath        Hypertension  Coronary Artery Disease   \n",
      "2              fatigue    High Cholesterol               Arrhythmia   \n",
      "3            dizziness                 NaN                      NaN   \n",
      "4         palpitations              Asthma             Hypertension   \n",
      "\n",
      "  Laboratory_Test_Results  Cholesterol_mg_dL  Blood_Sugar_mg_dL  \\\n",
      "0        High Cholesterol              198.0               79.0   \n",
      "1                     NaN              179.0               90.0   \n",
      "2                  Normal              193.0               82.0   \n",
      "3                     NaN              228.0              103.0   \n",
      "4                     NaN              251.0              135.0   \n",
      "\n",
      "  Family_History_Heart_Disease Smoking_Status  \n",
      "0                          Yes          Never  \n",
      "1                           No         Former  \n",
      "2                          NaN        Current  \n",
      "3                           No          Never  \n",
      "4                          Yes         Former  \n"
     ]
    }
   ],
   "source": [
    "# Loading dataset from CSV file to analyze and preprocess\n",
    "data_path = 'Patient_Health_Data.csv'\n",
    "patient_data = pd.read_csv(data_path)\n",
    "\n",
    "# Print the first few rows to understand the structure of the data\n",
    "print(\"Dataset loaded. Here are the first few rows:\")\n",
    "print(patient_data.head())\n"
   ]
  },
  {
   "cell_type": "markdown",
   "metadata": {},
   "source": [
    "**Display Data Structure**"
   ]
  },
  {
   "cell_type": "code",
   "execution_count": 101,
   "metadata": {},
   "outputs": [
    {
     "name": "stdout",
     "output_type": "stream",
     "text": [
      "Dataset structure:\n",
      "<class 'pandas.core.frame.DataFrame'>\n",
      "RangeIndex: 2000 entries, 0 to 1999\n",
      "Data columns (total 14 columns):\n",
      " #   Column                        Non-Null Count  Dtype  \n",
      "---  ------                        --------------  -----  \n",
      " 0   Patient_ID                    2000 non-null   object \n",
      " 1   Height_cm                     1915 non-null   float64\n",
      " 2   Weight_kg                     1914 non-null   float64\n",
      " 3   Blood_Pressure                1640 non-null   object \n",
      " 4   Temperature_C                 1892 non-null   float64\n",
      " 5   Heart_Rate                    1903 non-null   float64\n",
      " 6   Symptoms                      1562 non-null   object \n",
      " 7   Existing_Conditions           1488 non-null   object \n",
      " 8   Disease_Predictions           1488 non-null   object \n",
      " 9   Laboratory_Test_Results       1505 non-null   object \n",
      " 10  Cholesterol_mg_dL             1899 non-null   float64\n",
      " 11  Blood_Sugar_mg_dL             1880 non-null   float64\n",
      " 12  Family_History_Heart_Disease  1891 non-null   object \n",
      " 13  Smoking_Status                1911 non-null   object \n",
      "dtypes: float64(6), object(8)\n",
      "memory usage: 218.9+ KB\n",
      "None\n"
     ]
    }
   ],
   "source": [
    "print(\"Dataset structure:\")\n",
    "print(patient_data.info())"
   ]
  },
  {
   "cell_type": "markdown",
   "metadata": {},
   "source": [
    "**Splitting 'Blood_Pressure' Column**"
   ]
  },
  {
   "cell_type": "code",
   "execution_count": 102,
   "metadata": {},
   "outputs": [
    {
     "name": "stdout",
     "output_type": "stream",
     "text": [
      "Blood pressure split into 'Systolic_BP' and 'Diastolic_BP':\n",
      "  Systolic_BP Diastolic_BP\n",
      "0         120           80\n",
      "1         130           85\n",
      "2         140           90\n",
      "3         125           82\n",
      "4         135           88\n",
      "<class 'pandas.core.frame.DataFrame'>\n",
      "RangeIndex: 2000 entries, 0 to 1999\n",
      "Data columns (total 2 columns):\n",
      " #   Column        Non-Null Count  Dtype \n",
      "---  ------        --------------  ----- \n",
      " 0   Systolic_BP   1640 non-null   object\n",
      " 1   Diastolic_BP  1640 non-null   object\n",
      "dtypes: object(2)\n",
      "memory usage: 31.4+ KB\n",
      "None\n"
     ]
    }
   ],
   "source": [
    "# Split the 'Blood_Pressure' column into 'Systolic_BP' and 'Diastolic_BP'\n",
    "# This separation helps in individual analysis of each blood pressure component\n",
    "patient_data[['Systolic_BP', 'Diastolic_BP']] = patient_data['Blood_Pressure'].str.split('/', expand=True)\n",
    "\n",
    "# Verify the split by viewing the updated DataFrame\n",
    "print(\"Blood pressure split into 'Systolic_BP' and 'Diastolic_BP':\")\n",
    "print(patient_data[['Systolic_BP', 'Diastolic_BP']].head())\n",
    "print(patient_data[['Systolic_BP', 'Diastolic_BP']].info())\n"
   ]
  },
  {
   "cell_type": "markdown",
   "metadata": {},
   "source": [
    "**Convert Blood Pressure Columns to Numeric**"
   ]
  },
  {
   "cell_type": "code",
   "execution_count": 103,
   "metadata": {},
   "outputs": [
    {
     "name": "stdout",
     "output_type": "stream",
     "text": [
      "Converted 'Systolic_BP' and 'Diastolic_BP' to numeric types:\n",
      "<class 'pandas.core.frame.DataFrame'>\n",
      "RangeIndex: 2000 entries, 0 to 1999\n",
      "Data columns (total 2 columns):\n",
      " #   Column        Non-Null Count  Dtype  \n",
      "---  ------        --------------  -----  \n",
      " 0   Systolic_BP   1640 non-null   float64\n",
      " 1   Diastolic_BP  1640 non-null   float64\n",
      "dtypes: float64(2)\n",
      "memory usage: 31.4 KB\n",
      "None\n"
     ]
    }
   ],
   "source": [
    "# Convert the new blood pressure columns to numeric and handle non-numeric entries by setting them to NaN\n",
    "# This is necessary for further analysis since we can’t process string values in these columns\n",
    "patient_data['Systolic_BP'] = pd.to_numeric(patient_data['Systolic_BP'], errors='coerce')\n",
    "patient_data['Diastolic_BP'] = pd.to_numeric(patient_data['Diastolic_BP'], errors='coerce')\n",
    "\n",
    "# Check the data types and any potential NaNs introduced during conversion\n",
    "print(\"Converted 'Systolic_BP' and 'Diastolic_BP' to numeric types:\")\n",
    "print(patient_data[['Systolic_BP', 'Diastolic_BP']].info())\n"
   ]
  },
  {
   "cell_type": "markdown",
   "metadata": {},
   "source": [
    "**Drop the Original 'Blood_Pressure' Column**"
   ]
  },
  {
   "cell_type": "code",
   "execution_count": 104,
   "metadata": {},
   "outputs": [
    {
     "name": "stdout",
     "output_type": "stream",
     "text": [
      "'Blood_Pressure' column dropped:\n",
      "  Patient_ID  Height_cm  Weight_kg  Temperature_C  Heart_Rate  \\\n",
      "0      P0001      174.0       59.0           36.6        63.0   \n",
      "1      P0002        NaN       67.0           37.0        68.0   \n",
      "2      P0003      176.0       58.0           37.0        65.0   \n",
      "3      P0004      185.0       65.0           37.2        69.0   \n",
      "4      P0005      167.0       41.0           36.3        72.0   \n",
      "\n",
      "              Symptoms Existing_Conditions      Disease_Predictions  \\\n",
      "0           chest pain            Diabetes            Heart Disease   \n",
      "1  shortness of breath        Hypertension  Coronary Artery Disease   \n",
      "2              fatigue    High Cholesterol               Arrhythmia   \n",
      "3            dizziness                 NaN                      NaN   \n",
      "4         palpitations              Asthma             Hypertension   \n",
      "\n",
      "  Laboratory_Test_Results  Cholesterol_mg_dL  Blood_Sugar_mg_dL  \\\n",
      "0        High Cholesterol              198.0               79.0   \n",
      "1                     NaN              179.0               90.0   \n",
      "2                  Normal              193.0               82.0   \n",
      "3                     NaN              228.0              103.0   \n",
      "4                     NaN              251.0              135.0   \n",
      "\n",
      "  Family_History_Heart_Disease Smoking_Status  Systolic_BP  Diastolic_BP  \n",
      "0                          Yes          Never        120.0          80.0  \n",
      "1                           No         Former        130.0          85.0  \n",
      "2                          NaN        Current        140.0          90.0  \n",
      "3                           No          Never        125.0          82.0  \n",
      "4                          Yes         Former        135.0          88.0  \n"
     ]
    }
   ],
   "source": [
    "# Drop the original 'Blood_Pressure' column as it is no longer needed\n",
    "patient_data = patient_data.drop(columns=['Blood_Pressure'])\n",
    "\n",
    "# Confirm the column is dropped\n",
    "print(\"'Blood_Pressure' column dropped:\")\n",
    "print(patient_data.head())\n"
   ]
  },
  {
   "cell_type": "code",
   "execution_count": 105,
   "metadata": {},
   "outputs": [
    {
     "name": "stdout",
     "output_type": "stream",
     "text": [
      "Patient_ID                        0\n",
      "Height_cm                        85\n",
      "Weight_kg                        86\n",
      "Temperature_C                   108\n",
      "Heart_Rate                       97\n",
      "Symptoms                        438\n",
      "Existing_Conditions             512\n",
      "Disease_Predictions             512\n",
      "Laboratory_Test_Results         495\n",
      "Cholesterol_mg_dL               101\n",
      "Blood_Sugar_mg_dL               120\n",
      "Family_History_Heart_Disease    109\n",
      "Smoking_Status                   89\n",
      "Systolic_BP                     360\n",
      "Diastolic_BP                    360\n",
      "dtype: int64\n"
     ]
    },
    {
     "data": {
      "image/png": "[encoded data removed]",
      "text/plain": [
       "<Figure size 1000x800 with 9 Axes>"
      ]
     },
     "metadata": {},
     "output_type": "display_data"
    }
   ],
   "source": [
    "print(patient_data.isnull().sum())\n",
    "\n",
    "# Plot histogram of null values\n",
    "null_counts = patient_data.isnull().sum()\n",
    "null_counts = null_counts[null_counts > 0]\n",
    "\n",
    "patient_data[null_counts.index].hist(figsize=(10, 8))\n",
    "plt.suptitle(\"Initial Distribution of Null Value Features\")\n",
    "plt.show()"
   ]
  },
  {
   "cell_type": "markdown",
   "metadata": {},
   "source": [
    "**Fill Missing Values for Numerical Columns**"
   ]
  },
  {
   "cell_type": "code",
   "execution_count": 106,
   "metadata": {},
   "outputs": [
    {
     "name": "stdout",
     "output_type": "stream",
     "text": [
      "Filled missing values in numerical columns. Checking for nulls:\n",
      "Patient_ID                        0\n",
      "Height_cm                         0\n",
      "Weight_kg                         0\n",
      "Temperature_C                     0\n",
      "Heart_Rate                        0\n",
      "Symptoms                        438\n",
      "Existing_Conditions             512\n",
      "Disease_Predictions             512\n",
      "Laboratory_Test_Results         495\n",
      "Cholesterol_mg_dL                 0\n",
      "Blood_Sugar_mg_dL                 0\n",
      "Family_History_Heart_Disease    109\n",
      "Smoking_Status                   89\n",
      "Systolic_BP                       0\n",
      "Diastolic_BP                      0\n",
      "dtype: int64\n"
     ]
    }
   ],
   "source": [
    "# Fill missing values in numerical columns with the mean of each column\n",
    "patient_data.fillna(patient_data.mean(numeric_only=True), inplace=True)\n",
    "\n",
    "# Check for remaining missing values in the DataFrame\n",
    "print(\"Filled missing values in numerical columns. Checking for nulls:\")\n",
    "print(patient_data.isnull().sum())\n"
   ]
  },
  {
   "cell_type": "markdown",
   "metadata": {},
   "source": [
    "**Fill Missing Values for Categorical Columns**"
   ]
  },
  {
   "cell_type": "code",
   "execution_count": 107,
   "metadata": {},
   "outputs": [
    {
     "name": "stdout",
     "output_type": "stream",
     "text": [
      "Filled missing values in categorical columns. Checking for nulls:\n",
      "Patient_ID                      0\n",
      "Height_cm                       0\n",
      "Weight_kg                       0\n",
      "Temperature_C                   0\n",
      "Heart_Rate                      0\n",
      "Symptoms                        0\n",
      "Existing_Conditions             0\n",
      "Disease_Predictions             0\n",
      "Laboratory_Test_Results         0\n",
      "Cholesterol_mg_dL               0\n",
      "Blood_Sugar_mg_dL               0\n",
      "Family_History_Heart_Disease    0\n",
      "Smoking_Status                  0\n",
      "Systolic_BP                     0\n",
      "Diastolic_BP                    0\n",
      "dtype: int64\n"
     ]
    },
    {
     "name": "stderr",
     "output_type": "stream",
     "text": [
      "C:\\Users\\vaibh\\AppData\\Local\\Temp\\ipykernel_26020\\1065955776.py:3: FutureWarning: A value is trying to be set on a copy of a DataFrame or Series through chained assignment using an inplace method.\n",
      "The behavior will change in pandas 3.0. This inplace method will never work because the intermediate object on which we are setting values always behaves as a copy.\n",
      "\n",
      "For example, when doing 'df[col].method(value, inplace=True)', try using 'df.method({col: value}, inplace=True)' or df[col] = df[col].method(value) instead, to perform the operation inplace on the original object.\n",
      "\n",
      "\n",
      "  patient_data[col].fillna(patient_data[col].mode()[0], inplace=True)\n"
     ]
    }
   ],
   "source": [
    "# Fill missing values in categorical columns with the mode (most frequent value) of each column\n",
    "for col in patient_data.select_dtypes(include=['object']).columns:\n",
    "    patient_data[col].fillna(patient_data[col].mode()[0], inplace=True)\n",
    "\n",
    "# Confirm no missing values remain in categorical columns\n",
    "print(\"Filled missing values in categorical columns. Checking for nulls:\")\n",
    "print(patient_data.isnull().sum())\n"
   ]
  },
  {
   "cell_type": "markdown",
   "metadata": {},
   "source": [
    "**Separate Features and Target Variable**"
   ]
  },
  {
   "cell_type": "code",
   "execution_count": 108,
   "metadata": {},
   "outputs": [
    {
     "name": "stdout",
     "output_type": "stream",
     "text": [
      "Separated features (X) and target (y):\n",
      "Features shape: (2000, 13)\n",
      "Target shape: (2000,)\n"
     ]
    }
   ],
   "source": [
    "# Separate the features and target variable for model training\n",
    "X = patient_data.drop(columns=['Disease_Predictions', 'Patient_ID'])\n",
    "y = patient_data['Disease_Predictions']\n",
    "\n",
    "# Display the shapes to ensure correct separation\n",
    "print(\"Separated features (X) and target (y):\")\n",
    "print(\"Features shape:\", X.shape)\n",
    "print(\"Target shape:\", y.shape)\n"
   ]
  },
  {
   "cell_type": "markdown",
   "metadata": {},
   "source": [
    "**Encode Target Variable**"
   ]
  },
  {
   "cell_type": "code",
   "execution_count": 109,
   "metadata": {},
   "outputs": [
    {
     "name": "stdout",
     "output_type": "stream",
     "text": [
      "Encoded target variable:\n",
      "Classes: ['Arrhythmia' 'Coronary Artery Disease' 'Heart Disease' 'Hypertension'\n",
      " 'Stroke']\n"
     ]
    }
   ],
   "source": [
    "# Encode the categorical target variable using LabelEncoder\n",
    "label_encoder = LabelEncoder()\n",
    "y_encoded = label_encoder.fit_transform(y)\n",
    "\n",
    "# Print unique classes to confirm encoding\n",
    "print(\"Encoded target variable:\")\n",
    "print(\"Classes:\", label_encoder.classes_)\n"
   ]
  },
  {
   "cell_type": "markdown",
   "metadata": {},
   "source": [
    "**One-Hot Encode and Standardize Features**"
   ]
  },
  {
   "cell_type": "code",
   "execution_count": 110,
   "metadata": {},
   "outputs": [
    {
     "name": "stdout",
     "output_type": "stream",
     "text": [
      "Features encoded and standardized. Sample data:\n",
      "[[ 0.42555136 -0.70591148 -0.76706315 -1.14877022 -0.0419653  -0.68913928\n",
      "  -1.61947656 -1.60127071 -0.38655567 -0.38655567 -0.38740968 -0.73460594\n",
      "  -0.38655567  2.38515476 -0.41926001 -0.41595736 -0.82845678  2.08508839\n",
      "  -0.48196047 -0.48038446  1.06511582 -0.68363106  1.46784677]\n",
      " [ 0.         -0.16231278  0.05999682 -0.65222051 -0.53630086 -0.31025375\n",
      "  -0.3197743  -0.29955367 -0.38655567 -0.38655567 -0.38740968 -0.73460594\n",
      "   2.5869495  -0.41926001 -0.41926001  2.40409256 -0.82845678 -0.47959598\n",
      "  -0.48196047 -0.48038446 -0.93886503  1.4627773  -0.68127002]\n",
      " [ 0.63325643 -0.77386131  0.05999682 -0.95015034 -0.1720536  -0.58580687\n",
      "   0.97992795  1.00216338 -0.38655567  2.5869495  -0.38740968 -0.73460594\n",
      "  -0.38655567 -0.41926001  2.38515476 -0.41595736 -0.82845678 -0.47959598\n",
      "  -0.48196047  2.081666   -0.93886503 -0.68363106 -0.68127002]\n",
      " [ 1.56792926 -0.29821245  0.47352681 -0.55291057  0.73856455  0.13752006\n",
      "  -0.96962543 -1.08058389  2.5869495  -0.38655567 -0.38740968 -0.73460594\n",
      "  -0.38655567 -0.41926001 -0.41926001 -0.41595736  1.20706357 -0.47959598\n",
      "  -0.48196047 -0.48038446 -0.93886503 -0.68363106  1.46784677]\n",
      " [-0.30141639 -1.92900855 -1.38735813 -0.25498075  1.33697076  1.23973251\n",
      "   0.33007682  0.48147656 -0.38655567 -0.38655567 -0.38740968  1.36127405\n",
      "  -0.38655567 -0.41926001 -0.41926001 -0.41595736 -0.82845678 -0.47959598\n",
      "  -0.48196047 -0.48038446  1.06511582  1.4627773  -0.68127002]]\n",
      "(2000, 23)\n"
     ]
    },
    {
     "data": {
      "text/html": [
       "<div>\n",
       "<style scoped>\n",
       "    .dataframe tbody tr th:only-of-type {\n",
       "        vertical-align: middle;\n",
       "    }\n",
       "\n",
       "    .dataframe tbody tr th {\n",
       "        vertical-align: top;\n",
       "    }\n",
       "\n",
       "    .dataframe thead th {\n",
       "        text-align: right;\n",
       "    }\n",
       "</style>\n",
       "<table border=\"1\" class=\"dataframe\">\n",
       "  <thead>\n",
       "    <tr style=\"text-align: right;\">\n",
       "      <th></th>\n",
       "      <th>Height_cm</th>\n",
       "      <th>Weight_kg</th>\n",
       "      <th>Temperature_C</th>\n",
       "      <th>Heart_Rate</th>\n",
       "      <th>Cholesterol_mg_dL</th>\n",
       "      <th>Blood_Sugar_mg_dL</th>\n",
       "      <th>Systolic_BP</th>\n",
       "      <th>Diastolic_BP</th>\n",
       "      <th>Symptoms_dizziness</th>\n",
       "      <th>Symptoms_fatigue</th>\n",
       "      <th>...</th>\n",
       "      <th>Existing_Conditions_Diabetes</th>\n",
       "      <th>Existing_Conditions_High Cholesterol</th>\n",
       "      <th>Existing_Conditions_Hypertension</th>\n",
       "      <th>Existing_Conditions_Thyroid</th>\n",
       "      <th>Laboratory_Test_Results_High Cholesterol</th>\n",
       "      <th>Laboratory_Test_Results_Low Iron</th>\n",
       "      <th>Laboratory_Test_Results_Normal</th>\n",
       "      <th>Family_History_Heart_Disease_Yes</th>\n",
       "      <th>Smoking_Status_Former</th>\n",
       "      <th>Smoking_Status_Never</th>\n",
       "    </tr>\n",
       "  </thead>\n",
       "  <tbody>\n",
       "    <tr>\n",
       "      <th>0</th>\n",
       "      <td>0.425551</td>\n",
       "      <td>-0.705911</td>\n",
       "      <td>-0.767063</td>\n",
       "      <td>-1.148770</td>\n",
       "      <td>-0.041965</td>\n",
       "      <td>-0.689139</td>\n",
       "      <td>-1.619477</td>\n",
       "      <td>-1.601271</td>\n",
       "      <td>-0.386556</td>\n",
       "      <td>-0.386556</td>\n",
       "      <td>...</td>\n",
       "      <td>2.385155</td>\n",
       "      <td>-0.419260</td>\n",
       "      <td>-0.415957</td>\n",
       "      <td>-0.828457</td>\n",
       "      <td>2.085088</td>\n",
       "      <td>-0.48196</td>\n",
       "      <td>-0.480384</td>\n",
       "      <td>1.065116</td>\n",
       "      <td>-0.683631</td>\n",
       "      <td>1.467847</td>\n",
       "    </tr>\n",
       "    <tr>\n",
       "      <th>1</th>\n",
       "      <td>0.000000</td>\n",
       "      <td>-0.162313</td>\n",
       "      <td>0.059997</td>\n",
       "      <td>-0.652221</td>\n",
       "      <td>-0.536301</td>\n",
       "      <td>-0.310254</td>\n",
       "      <td>-0.319774</td>\n",
       "      <td>-0.299554</td>\n",
       "      <td>-0.386556</td>\n",
       "      <td>-0.386556</td>\n",
       "      <td>...</td>\n",
       "      <td>-0.419260</td>\n",
       "      <td>-0.419260</td>\n",
       "      <td>2.404093</td>\n",
       "      <td>-0.828457</td>\n",
       "      <td>-0.479596</td>\n",
       "      <td>-0.48196</td>\n",
       "      <td>-0.480384</td>\n",
       "      <td>-0.938865</td>\n",
       "      <td>1.462777</td>\n",
       "      <td>-0.681270</td>\n",
       "    </tr>\n",
       "    <tr>\n",
       "      <th>2</th>\n",
       "      <td>0.633256</td>\n",
       "      <td>-0.773861</td>\n",
       "      <td>0.059997</td>\n",
       "      <td>-0.950150</td>\n",
       "      <td>-0.172054</td>\n",
       "      <td>-0.585807</td>\n",
       "      <td>0.979928</td>\n",
       "      <td>1.002163</td>\n",
       "      <td>-0.386556</td>\n",
       "      <td>2.586949</td>\n",
       "      <td>...</td>\n",
       "      <td>-0.419260</td>\n",
       "      <td>2.385155</td>\n",
       "      <td>-0.415957</td>\n",
       "      <td>-0.828457</td>\n",
       "      <td>-0.479596</td>\n",
       "      <td>-0.48196</td>\n",
       "      <td>2.081666</td>\n",
       "      <td>-0.938865</td>\n",
       "      <td>-0.683631</td>\n",
       "      <td>-0.681270</td>\n",
       "    </tr>\n",
       "    <tr>\n",
       "      <th>3</th>\n",
       "      <td>1.567929</td>\n",
       "      <td>-0.298212</td>\n",
       "      <td>0.473527</td>\n",
       "      <td>-0.552911</td>\n",
       "      <td>0.738565</td>\n",
       "      <td>0.137520</td>\n",
       "      <td>-0.969625</td>\n",
       "      <td>-1.080584</td>\n",
       "      <td>2.586949</td>\n",
       "      <td>-0.386556</td>\n",
       "      <td>...</td>\n",
       "      <td>-0.419260</td>\n",
       "      <td>-0.419260</td>\n",
       "      <td>-0.415957</td>\n",
       "      <td>1.207064</td>\n",
       "      <td>-0.479596</td>\n",
       "      <td>-0.48196</td>\n",
       "      <td>-0.480384</td>\n",
       "      <td>-0.938865</td>\n",
       "      <td>-0.683631</td>\n",
       "      <td>1.467847</td>\n",
       "    </tr>\n",
       "    <tr>\n",
       "      <th>4</th>\n",
       "      <td>-0.301416</td>\n",
       "      <td>-1.929009</td>\n",
       "      <td>-1.387358</td>\n",
       "      <td>-0.254981</td>\n",
       "      <td>1.336971</td>\n",
       "      <td>1.239733</td>\n",
       "      <td>0.330077</td>\n",
       "      <td>0.481477</td>\n",
       "      <td>-0.386556</td>\n",
       "      <td>-0.386556</td>\n",
       "      <td>...</td>\n",
       "      <td>-0.419260</td>\n",
       "      <td>-0.419260</td>\n",
       "      <td>-0.415957</td>\n",
       "      <td>-0.828457</td>\n",
       "      <td>-0.479596</td>\n",
       "      <td>-0.48196</td>\n",
       "      <td>-0.480384</td>\n",
       "      <td>1.065116</td>\n",
       "      <td>1.462777</td>\n",
       "      <td>-0.681270</td>\n",
       "    </tr>\n",
       "  </tbody>\n",
       "</table>\n",
       "<p>5 rows × 23 columns</p>\n",
       "</div>"
      ],
      "text/plain": [
       "   Height_cm  Weight_kg  Temperature_C  Heart_Rate  Cholesterol_mg_dL  \\\n",
       "0   0.425551  -0.705911      -0.767063   -1.148770          -0.041965   \n",
       "1   0.000000  -0.162313       0.059997   -0.652221          -0.536301   \n",
       "2   0.633256  -0.773861       0.059997   -0.950150          -0.172054   \n",
       "3   1.567929  -0.298212       0.473527   -0.552911           0.738565   \n",
       "4  -0.301416  -1.929009      -1.387358   -0.254981           1.336971   \n",
       "\n",
       "   Blood_Sugar_mg_dL  Systolic_BP  Diastolic_BP  Symptoms_dizziness  \\\n",
       "0          -0.689139    -1.619477     -1.601271           -0.386556   \n",
       "1          -0.310254    -0.319774     -0.299554           -0.386556   \n",
       "2          -0.585807     0.979928      1.002163           -0.386556   \n",
       "3           0.137520    -0.969625     -1.080584            2.586949   \n",
       "4           1.239733     0.330077      0.481477           -0.386556   \n",
       "\n",
       "   Symptoms_fatigue  ...  Existing_Conditions_Diabetes  \\\n",
       "0         -0.386556  ...                      2.385155   \n",
       "1         -0.386556  ...                     -0.419260   \n",
       "2          2.586949  ...                     -0.419260   \n",
       "3         -0.386556  ...                     -0.419260   \n",
       "4         -0.386556  ...                     -0.419260   \n",
       "\n",
       "   Existing_Conditions_High Cholesterol  Existing_Conditions_Hypertension  \\\n",
       "0                             -0.419260                         -0.415957   \n",
       "1                             -0.419260                          2.404093   \n",
       "2                              2.385155                         -0.415957   \n",
       "3                             -0.419260                         -0.415957   \n",
       "4                             -0.419260                         -0.415957   \n",
       "\n",
       "   Existing_Conditions_Thyroid  Laboratory_Test_Results_High Cholesterol  \\\n",
       "0                    -0.828457                                  2.085088   \n",
       "1                    -0.828457                                 -0.479596   \n",
       "2                    -0.828457                                 -0.479596   \n",
       "3                     1.207064                                 -0.479596   \n",
       "4                    -0.828457                                 -0.479596   \n",
       "\n",
       "   Laboratory_Test_Results_Low Iron  Laboratory_Test_Results_Normal  \\\n",
       "0                          -0.48196                       -0.480384   \n",
       "1                          -0.48196                       -0.480384   \n",
       "2                          -0.48196                        2.081666   \n",
       "3                          -0.48196                       -0.480384   \n",
       "4                          -0.48196                       -0.480384   \n",
       "\n",
       "   Family_History_Heart_Disease_Yes  Smoking_Status_Former  \\\n",
       "0                          1.065116              -0.683631   \n",
       "1                         -0.938865               1.462777   \n",
       "2                         -0.938865              -0.683631   \n",
       "3                         -0.938865              -0.683631   \n",
       "4                          1.065116               1.462777   \n",
       "\n",
       "   Smoking_Status_Never  \n",
       "0              1.467847  \n",
       "1             -0.681270  \n",
       "2             -0.681270  \n",
       "3              1.467847  \n",
       "4             -0.681270  \n",
       "\n",
       "[5 rows x 23 columns]"
      ]
     },
     "execution_count": 110,
     "metadata": {},
     "output_type": "execute_result"
    }
   ],
   "source": [
    "# One-hot encode categorical features and standardize numerical features for better model performance\n",
    "X = pd.get_dummies(X, drop_first=True)\n",
    "scaler = StandardScaler()\n",
    "X_scaled = scaler.fit_transform(X)\n",
    "\n",
    "# Confirm the scaling and encoding by displaying shape and sample data\n",
    "print(\"Features encoded and standardized. Sample data:\")\n",
    "print(X_scaled[:5])\n",
    "print(X_scaled.shape)\n",
    "# Visualize the first few rows of the scaled and encoded features\n",
    "pd.DataFrame(X_scaled, columns=X.columns).head()\n"
   ]
  },
  {
   "cell_type": "markdown",
   "metadata": {},
   "source": [
    "**Apply SMOTE to Balance Classes**"
   ]
  },
  {
   "cell_type": "code",
   "execution_count": 111,
   "metadata": {},
   "outputs": [
    {
     "name": "stdout",
     "output_type": "stream",
     "text": [
      "Applied SMOTE to balance classes. New class distribution:\n",
      "[815 815 815 815 815]\n"
     ]
    }
   ],
   "source": [
    "# Use SMOTE to balance the classes by oversampling the minority classes\n",
    "smote = SMOTE(random_state=42)\n",
    "X_resampled, y_resampled = smote.fit_resample(X_scaled, y_encoded)\n",
    "\n",
    "# Confirm the balanced classes\n",
    "print(\"Applied SMOTE to balance classes. New class distribution:\")\n",
    "print(np.bincount(y_resampled))\n"
   ]
  },
  {
   "cell_type": "markdown",
   "metadata": {},
   "source": [
    "**Split into Training and Test Sets**"
   ]
  },
  {
   "cell_type": "code",
   "execution_count": 112,
   "metadata": {},
   "outputs": [
    {
     "name": "stdout",
     "output_type": "stream",
     "text": [
      "Data split into training and testing sets:\n",
      "X_train shape: (3260, 23)\n",
      "X_test shape: (815, 23)\n"
     ]
    }
   ],
   "source": [
    "# Split the balanced dataset into training and testing sets\n",
    "X_train, X_test, y_train, y_test = train_test_split(X_resampled, y_resampled, test_size=0.2, random_state=42)\n",
    "\n",
    "# Display the shapes to confirm splitting\n",
    "print(\"Data split into training and testing sets:\")\n",
    "print(\"X_train shape:\", X_train.shape)\n",
    "print(\"X_test shape:\", X_test.shape)\n"
   ]
  },
  {
   "cell_type": "markdown",
   "metadata": {},
   "source": [
    "**Model 1: K-Nearest Neighbors (KNN)**"
   ]
  },
  {
   "cell_type": "code",
   "execution_count": 113,
   "metadata": {},
   "outputs": [
    {
     "name": "stdout",
     "output_type": "stream",
     "text": [
      "KNN Accuracy: 0.9263803680981595\n",
      "KNN Classification Report:\n",
      "               precision    recall  f1-score   support\n",
      "\n",
      "           0       0.95      0.99      0.97       180\n",
      "           1       0.95      0.98      0.96       160\n",
      "           2       0.94      0.98      0.96       152\n",
      "           3       0.94      0.71      0.81       168\n",
      "           4       0.86      0.97      0.92       155\n",
      "\n",
      "    accuracy                           0.93       815\n",
      "   macro avg       0.93      0.93      0.92       815\n",
      "weighted avg       0.93      0.93      0.92       815\n",
      "\n"
     ]
    },
    {
     "data": {
      "image/png": "[encoded data removed]",
      "text/plain": [
       "<Figure size 600x500 with 1 Axes>"
      ]
     },
     "metadata": {},
     "output_type": "display_data"
    }
   ],
   "source": [
    "knn = KNeighborsClassifier(n_neighbors=5)\n",
    "knn.fit(X_train, y_train)\n",
    "knn_pred = knn.predict(X_test)\n",
    "\n",
    "# Evaluate KNN\n",
    "print(\"KNN Accuracy:\", accuracy_score(y_test, knn_pred))\n",
    "print(\"KNN Classification Report:\\n\", classification_report(y_test, knn_pred))\n",
    "\n",
    "# Plot confusion matrix\n",
    "plt.figure(figsize=(6,5))\n",
    "sns.heatmap(confusion_matrix(y_test, knn_pred), annot=True, fmt=\"d\", cmap=\"Blues\", cbar=False)\n",
    "plt.title(\"KNN Model - Confusion Matrix\")\n",
    "plt.show()"
   ]
  },
  {
   "cell_type": "code",
   "execution_count": 114,
   "metadata": {},
   "outputs": [
    {
     "name": "stderr",
     "output_type": "stream",
     "text": [
      "d:\\HEART_DISEASE_PREDICTION\\hdp\\Lib\\site-packages\\xgboost\\core.py:158: UserWarning: [22:09:18] WARNING: C:\\buildkite-agent\\builds\\buildkite-windows-cpu-autoscaling-group-i-0ed59c031377d09b8-1\\xgboost\\xgboost-ci-windows\\src\\learner.cc:740: \n",
      "Parameters: { \"use_label_encoder\" } are not used.\n",
      "\n",
      "  warnings.warn(smsg, UserWarning)\n"
     ]
    },
    {
     "name": "stdout",
     "output_type": "stream",
     "text": [
      "XGBoost with KNN Feature Accuracy: 0.939877300613497\n",
      "XGBoost with KNN Feature Classification Report:\n",
      "               precision    recall  f1-score   support\n",
      "\n",
      "           0       0.95      0.99      0.97       180\n",
      "           1       0.95      0.99      0.97       160\n",
      "           2       0.94      0.99      0.96       152\n",
      "           3       0.93      0.77      0.84       168\n",
      "           4       0.93      0.95      0.94       155\n",
      "\n",
      "    accuracy                           0.94       815\n",
      "   macro avg       0.94      0.94      0.94       815\n",
      "weighted avg       0.94      0.94      0.94       815\n",
      "\n"
     ]
    },
    {
     "data": {
      "image/png": "[encoded data removed]",
      "text/plain": [
       "<Figure size 600x500 with 1 Axes>"
      ]
     },
     "metadata": {},
     "output_type": "display_data"
    }
   ],
   "source": [
    "# Add KNN predictions as a new feature to the training and test sets\n",
    "X_train_with_knn = np.hstack((X_train, knn.predict(X_train).reshape(-1, 1)))\n",
    "X_test_with_knn = np.hstack((X_test, knn.predict(X_test).reshape(-1, 1)))\n",
    "\n",
    "# Initialize the XGBoost model\n",
    "xgb_with_knn = XGBClassifier(random_state=42, use_label_encoder=False, eval_metric='mlogloss')\n",
    "\n",
    "# Fit the model to the training data with the additional KNN feature\n",
    "xgb_with_knn.fit(X_train_with_knn, y_train)\n",
    "\n",
    "# Predict on the test set\n",
    "xgb_with_knn_pred = xgb_with_knn.predict(X_test_with_knn)\n",
    "\n",
    "# Evaluate the XGBoost model with the additional KNN feature\n",
    "print(\"XGBoost with KNN Feature Accuracy:\", accuracy_score(y_test, xgb_with_knn_pred))\n",
    "print(\"XGBoost with KNN Feature Classification Report:\\n\", classification_report(y_test, xgb_with_knn_pred))\n",
    "\n",
    "# Plot confusion matrix\n",
    "plt.figure(figsize=(6,5))\n",
    "sns.heatmap(confusion_matrix(y_test, xgb_with_knn_pred), annot=True, fmt=\"d\", cmap=\"Purples\", cbar=False)\n",
    "plt.title(\"XGBoost with KNN Feature - Confusion Matrix\")\n",
    "plt.show()"
   ]
  },
  {
   "cell_type": "markdown",
   "metadata": {},
   "source": [
    "Accuracy is low, so lets move to RandomForest"
   ]
  },
  {
   "cell_type": "markdown",
   "metadata": {},
   "source": [
    "**Model 2: RandomForest**"
   ]
  },
  {
   "cell_type": "code",
   "execution_count": 115,
   "metadata": {},
   "outputs": [
    {
     "name": "stdout",
     "output_type": "stream",
     "text": [
      "RandomForest Accuracy: 0.9496932515337423\n",
      "RandomForest Classification Report:\n",
      "               precision    recall  f1-score   support\n",
      "\n",
      "           0       0.96      1.00      0.98       180\n",
      "           1       0.96      0.99      0.97       160\n",
      "           2       0.94      0.99      0.96       152\n",
      "           3       0.94      0.81      0.87       168\n",
      "           4       0.94      0.96      0.95       155\n",
      "\n",
      "    accuracy                           0.95       815\n",
      "   macro avg       0.95      0.95      0.95       815\n",
      "weighted avg       0.95      0.95      0.95       815\n",
      "\n"
     ]
    },
    {
     "data": {
      "image/png": "[encoded data removed]",
      "text/plain": [
       "<Figure size 600x500 with 1 Axes>"
      ]
     },
     "metadata": {},
     "output_type": "display_data"
    }
   ],
   "source": [
    "rf = RandomForestClassifier(random_state=42)\n",
    "rf.fit(X_train, y_train)\n",
    "rf_pred = rf.predict(X_test)\n",
    "\n",
    "# Evaluate RandomForest\n",
    "print(\"RandomForest Accuracy:\", accuracy_score(y_test, rf_pred))\n",
    "print(\"RandomForest Classification Report:\\n\", classification_report(y_test, rf_pred))\n",
    "\n",
    "# Plot confusion matrix\n",
    "plt.figure(figsize=(6,5))\n",
    "sns.heatmap(confusion_matrix(y_test, rf_pred), annot=True, fmt=\"d\", cmap=\"Greens\", cbar=False)\n",
    "plt.title(\"RandomForest Model - Confusion Matrix\")\n",
    "plt.show()"
   ]
  },
  {
   "cell_type": "code",
   "execution_count": 116,
   "metadata": {},
   "outputs": [
    {
     "name": "stderr",
     "output_type": "stream",
     "text": [
      "d:\\HEART_DISEASE_PREDICTION\\hdp\\Lib\\site-packages\\xgboost\\core.py:158: UserWarning: [22:09:19] WARNING: C:\\buildkite-agent\\builds\\buildkite-windows-cpu-autoscaling-group-i-0ed59c031377d09b8-1\\xgboost\\xgboost-ci-windows\\src\\learner.cc:740: \n",
      "Parameters: { \"use_label_encoder\" } are not used.\n",
      "\n",
      "  warnings.warn(smsg, UserWarning)\n"
     ]
    },
    {
     "name": "stdout",
     "output_type": "stream",
     "text": [
      "XGBoost Accuracy: 0.9460122699386503\n",
      "XGBoost Classification Report:\n",
      "               precision    recall  f1-score   support\n",
      "\n",
      "           0       0.96      0.99      0.98       180\n",
      "           1       0.96      0.99      0.98       160\n",
      "           2       0.94      0.99      0.96       152\n",
      "           3       0.93      0.81      0.86       168\n",
      "           4       0.94      0.95      0.95       155\n",
      "\n",
      "    accuracy                           0.95       815\n",
      "   macro avg       0.95      0.95      0.94       815\n",
      "weighted avg       0.95      0.95      0.94       815\n",
      "\n"
     ]
    },
    {
     "data": {
      "image/png": "[encoded data removed]",
      "text/plain": [
       "<Figure size 600x500 with 1 Axes>"
      ]
     },
     "metadata": {},
     "output_type": "display_data"
    },
    {
     "name": "stderr",
     "output_type": "stream",
     "text": [
      "d:\\HEART_DISEASE_PREDICTION\\hdp\\Lib\\site-packages\\xgboost\\core.py:158: UserWarning: [22:09:20] WARNING: C:\\buildkite-agent\\builds\\buildkite-windows-cpu-autoscaling-group-i-0ed59c031377d09b8-1\\xgboost\\xgboost-ci-windows\\src\\learner.cc:740: \n",
      "Parameters: { \"use_label_encoder\" } are not used.\n",
      "\n",
      "  warnings.warn(smsg, UserWarning)\n"
     ]
    },
    {
     "name": "stdout",
     "output_type": "stream",
     "text": [
      "XGBoost with RandomForest Feature Accuracy: 0.9496932515337423\n",
      "XGBoost with RandomForest Feature Classification Report:\n",
      "               precision    recall  f1-score   support\n",
      "\n",
      "           0       0.96      1.00      0.98       180\n",
      "           1       0.96      0.99      0.97       160\n",
      "           2       0.94      0.99      0.96       152\n",
      "           3       0.94      0.81      0.87       168\n",
      "           4       0.94      0.96      0.95       155\n",
      "\n",
      "    accuracy                           0.95       815\n",
      "   macro avg       0.95      0.95      0.95       815\n",
      "weighted avg       0.95      0.95      0.95       815\n",
      "\n"
     ]
    },
    {
     "data": {
      "image/png": "[encoded data removed]",
      "text/plain": [
       "<Figure size 600x500 with 1 Axes>"
      ]
     },
     "metadata": {},
     "output_type": "display_data"
    }
   ],
   "source": [
    "# Initialize the XGBoost model\n",
    "xgb = XGBClassifier(random_state=42, use_label_encoder=False, eval_metric='mlogloss')\n",
    "\n",
    "# Fit the model to the training data\n",
    "xgb.fit(X_train, y_train)\n",
    "\n",
    "# Predict on the test set\n",
    "xgb_pred = xgb.predict(X_test)\n",
    "\n",
    "# Evaluate XGBoost model\n",
    "print(\"XGBoost Accuracy:\", accuracy_score(y_test, xgb_pred))\n",
    "print(\"XGBoost Classification Report:\\n\", classification_report(y_test, xgb_pred))\n",
    "\n",
    "# Plot confusion matrix\n",
    "plt.figure(figsize=(6,5))\n",
    "sns.heatmap(confusion_matrix(y_test, xgb_pred), annot=True, fmt=\"d\", cmap=\"Oranges\", cbar=False)\n",
    "plt.title(\"XGBoost Model - Confusion Matrix\")\n",
    "plt.show()\n",
    "# Add RandomForest predictions as a new feature to the training and test sets\n",
    "X_train_with_rf = np.hstack((X_train, rf.predict(X_train).reshape(-1, 1)))\n",
    "X_test_with_rf = np.hstack((X_test, rf.predict(X_test).reshape(-1, 1)))\n",
    "\n",
    "# Initialize the XGBoost model\n",
    "xgb_with_rf = XGBClassifier(random_state=42, use_label_encoder=False, eval_metric='mlogloss')\n",
    "\n",
    "# Fit the model to the training data with the additional RandomForest feature\n",
    "xgb_with_rf.fit(X_train_with_rf, y_train)\n",
    "\n",
    "# Predict on the test set\n",
    "xgb_with_rf_pred = xgb_with_rf.predict(X_test_with_rf)\n",
    "\n",
    "# Evaluate the XGBoost model with the additional RandomForest feature\n",
    "print(\"XGBoost with RandomForest Feature Accuracy:\", accuracy_score(y_test, xgb_with_rf_pred))\n",
    "print(\"XGBoost with RandomForest Feature Classification Report:\\n\", classification_report(y_test, xgb_with_rf_pred))\n",
    "\n",
    "# Plot confusion matrix\n",
    "plt.figure(figsize=(6,5))\n",
    "sns.heatmap(confusion_matrix(y_test, xgb_with_rf_pred), annot=True, fmt=\"d\", cmap=\"Blues\", cbar=False)\n",
    "plt.title(\"XGBoost with RandomForest Feature - Confusion Matrix\")\n",
    "plt.show()"
   ]
  },
  {
   "cell_type": "markdown",
   "metadata": {},
   "source": [
    "Accuracy is still low,so lets move to CNN"
   ]
  },
  {
   "cell_type": "markdown",
   "metadata": {},
   "source": [
    "**Reshape for CNN Input**"
   ]
  },
  {
   "cell_type": "code",
   "execution_count": 117,
   "metadata": {},
   "outputs": [
    {
     "name": "stdout",
     "output_type": "stream",
     "text": [
      "Data reshaped for CNN input:\n",
      "X_train reshaped shape: (3260, 23, 1)\n",
      "X_test reshaped shape: (815, 23, 1)\n"
     ]
    }
   ],
   "source": [
    "# Reshape the data for CNN input, adding a third dimension for channels (required by Conv1D)\n",
    "X_train_reshaped = np.expand_dims(X_train, axis=2)\n",
    "X_test_reshaped = np.expand_dims(X_test, axis=2)\n",
    "\n",
    "# Confirm reshaping\n",
    "print(\"Data reshaped for CNN input:\")\n",
    "print(\"X_train reshaped shape:\", X_train_reshaped.shape)\n",
    "print(\"X_test reshaped shape:\", X_test_reshaped.shape)\n"
   ]
  },
  {
   "cell_type": "markdown",
   "metadata": {},
   "source": [
    "**Convert Target Variable to Categorical**"
   ]
  },
  {
   "cell_type": "code",
   "execution_count": 118,
   "metadata": {},
   "outputs": [
    {
     "name": "stdout",
     "output_type": "stream",
     "text": [
      "Converted target to categorical format:\n",
      "y_train shape: (3260, 5)\n",
      "y_test shape: (815, 5)\n"
     ]
    }
   ],
   "source": [
    "# Convert target variable to categorical format for multi-class classification\n",
    "y_train_categorical = to_categorical(y_train)\n",
    "y_test_categorical = to_categorical(y_test)\n",
    "\n",
    "# Confirm conversion\n",
    "print(\"Converted target to categorical format:\")\n",
    "print(\"y_train shape:\", y_train_categorical.shape)\n",
    "print(\"y_test shape:\", y_test_categorical.shape)\n"
   ]
  },
  {
   "cell_type": "markdown",
   "metadata": {},
   "source": [
    "**Define the Deep Residual CNN Mode**"
   ]
  },
  {
   "cell_type": "code",
   "execution_count": 119,
   "metadata": {},
   "outputs": [
    {
     "data": {
      "text/html": [
       "<pre style=\"white-space:pre;overflow-x:auto;line-height:normal;font-family:Menlo,'DejaVu Sans Mono',consolas,'Courier New',monospace\"><span style=\"font-weight: bold\">Model: \"functional\"</span>\n",
       "</pre>\n"
      ],
      "text/plain": [
       "\u001b[1mModel: \"functional\"\u001b[0m\n"
      ]
     },
     "metadata": {},
     "output_type": "display_data"
    },
    {
     "data": {
      "text/html": [
       "<pre style=\"white-space:pre;overflow-x:auto;line-height:normal;font-family:Menlo,'DejaVu Sans Mono',consolas,'Courier New',monospace\">┏━━━━━━━━━━━━━━━━━━━━━┳━━━━━━━━━━━━━━━━━━━┳━━━━━━━━━━━━┳━━━━━━━━━━━━━━━━━━━┓\n",
       "┃<span style=\"font-weight: bold\"> Layer (type)        </span>┃<span style=\"font-weight: bold\"> Output Shape      </span>┃<span style=\"font-weight: bold\">    Param # </span>┃<span style=\"font-weight: bold\"> Connected to      </span>┃\n",
       "┡━━━━━━━━━━━━━━━━━━━━━╇━━━━━━━━━━━━━━━━━━━╇━━━━━━━━━━━━╇━━━━━━━━━━━━━━━━━━━┩\n",
       "│ input_layer         │ (<span style=\"color: #00d7ff; text-decoration-color: #00d7ff\">None</span>, <span style=\"color: #00af00; text-decoration-color: #00af00\">23</span>, <span style=\"color: #00af00; text-decoration-color: #00af00\">1</span>)     │          <span style=\"color: #00af00; text-decoration-color: #00af00\">0</span> │ -                 │\n",
       "│ (<span style=\"color: #0087ff; text-decoration-color: #0087ff\">InputLayer</span>)        │                   │            │                   │\n",
       "├─────────────────────┼───────────────────┼────────────┼───────────────────┤\n",
       "│ conv1d (<span style=\"color: #0087ff; text-decoration-color: #0087ff\">Conv1D</span>)     │ (<span style=\"color: #00d7ff; text-decoration-color: #00d7ff\">None</span>, <span style=\"color: #00af00; text-decoration-color: #00af00\">23</span>, <span style=\"color: #00af00; text-decoration-color: #00af00\">64</span>)    │        <span style=\"color: #00af00; text-decoration-color: #00af00\">256</span> │ input_layer[<span style=\"color: #00af00; text-decoration-color: #00af00\">0</span>][<span style=\"color: #00af00; text-decoration-color: #00af00\">0</span>] │\n",
       "├─────────────────────┼───────────────────┼────────────┼───────────────────┤\n",
       "│ batch_normalization │ (<span style=\"color: #00d7ff; text-decoration-color: #00d7ff\">None</span>, <span style=\"color: #00af00; text-decoration-color: #00af00\">23</span>, <span style=\"color: #00af00; text-decoration-color: #00af00\">64</span>)    │        <span style=\"color: #00af00; text-decoration-color: #00af00\">256</span> │ conv1d[<span style=\"color: #00af00; text-decoration-color: #00af00\">0</span>][<span style=\"color: #00af00; text-decoration-color: #00af00\">0</span>]      │\n",
       "│ (<span style=\"color: #0087ff; text-decoration-color: #0087ff\">BatchNormalizatio…</span> │                   │            │                   │\n",
       "├─────────────────────┼───────────────────┼────────────┼───────────────────┤\n",
       "│ max_pooling1d       │ (<span style=\"color: #00d7ff; text-decoration-color: #00d7ff\">None</span>, <span style=\"color: #00af00; text-decoration-color: #00af00\">11</span>, <span style=\"color: #00af00; text-decoration-color: #00af00\">64</span>)    │          <span style=\"color: #00af00; text-decoration-color: #00af00\">0</span> │ batch_normalizat… │\n",
       "│ (<span style=\"color: #0087ff; text-decoration-color: #0087ff\">MaxPooling1D</span>)      │                   │            │                   │\n",
       "├─────────────────────┼───────────────────┼────────────┼───────────────────┤\n",
       "│ dropout (<span style=\"color: #0087ff; text-decoration-color: #0087ff\">Dropout</span>)   │ (<span style=\"color: #00d7ff; text-decoration-color: #00d7ff\">None</span>, <span style=\"color: #00af00; text-decoration-color: #00af00\">11</span>, <span style=\"color: #00af00; text-decoration-color: #00af00\">64</span>)    │          <span style=\"color: #00af00; text-decoration-color: #00af00\">0</span> │ max_pooling1d[<span style=\"color: #00af00; text-decoration-color: #00af00\">0</span>]… │\n",
       "├─────────────────────┼───────────────────┼────────────┼───────────────────┤\n",
       "│ conv1d_2 (<span style=\"color: #0087ff; text-decoration-color: #0087ff\">Conv1D</span>)   │ (<span style=\"color: #00d7ff; text-decoration-color: #00d7ff\">None</span>, <span style=\"color: #00af00; text-decoration-color: #00af00\">11</span>, <span style=\"color: #00af00; text-decoration-color: #00af00\">128</span>)   │     <span style=\"color: #00af00; text-decoration-color: #00af00\">24,704</span> │ dropout[<span style=\"color: #00af00; text-decoration-color: #00af00\">0</span>][<span style=\"color: #00af00; text-decoration-color: #00af00\">0</span>]     │\n",
       "├─────────────────────┼───────────────────┼────────────┼───────────────────┤\n",
       "│ batch_normalizatio… │ (<span style=\"color: #00d7ff; text-decoration-color: #00d7ff\">None</span>, <span style=\"color: #00af00; text-decoration-color: #00af00\">11</span>, <span style=\"color: #00af00; text-decoration-color: #00af00\">128</span>)   │        <span style=\"color: #00af00; text-decoration-color: #00af00\">512</span> │ conv1d_2[<span style=\"color: #00af00; text-decoration-color: #00af00\">0</span>][<span style=\"color: #00af00; text-decoration-color: #00af00\">0</span>]    │\n",
       "│ (<span style=\"color: #0087ff; text-decoration-color: #0087ff\">BatchNormalizatio…</span> │                   │            │                   │\n",
       "├─────────────────────┼───────────────────┼────────────┼───────────────────┤\n",
       "│ conv1d_1 (<span style=\"color: #0087ff; text-decoration-color: #0087ff\">Conv1D</span>)   │ (<span style=\"color: #00d7ff; text-decoration-color: #00d7ff\">None</span>, <span style=\"color: #00af00; text-decoration-color: #00af00\">11</span>, <span style=\"color: #00af00; text-decoration-color: #00af00\">128</span>)   │     <span style=\"color: #00af00; text-decoration-color: #00af00\">24,704</span> │ dropout[<span style=\"color: #00af00; text-decoration-color: #00af00\">0</span>][<span style=\"color: #00af00; text-decoration-color: #00af00\">0</span>]     │\n",
       "├─────────────────────┼───────────────────┼────────────┼───────────────────┤\n",
       "│ add (<span style=\"color: #0087ff; text-decoration-color: #0087ff\">Add</span>)           │ (<span style=\"color: #00d7ff; text-decoration-color: #00d7ff\">None</span>, <span style=\"color: #00af00; text-decoration-color: #00af00\">11</span>, <span style=\"color: #00af00; text-decoration-color: #00af00\">128</span>)   │          <span style=\"color: #00af00; text-decoration-color: #00af00\">0</span> │ batch_normalizat… │\n",
       "│                     │                   │            │ conv1d_1[<span style=\"color: #00af00; text-decoration-color: #00af00\">0</span>][<span style=\"color: #00af00; text-decoration-color: #00af00\">0</span>]    │\n",
       "├─────────────────────┼───────────────────┼────────────┼───────────────────┤\n",
       "│ max_pooling1d_1     │ (<span style=\"color: #00d7ff; text-decoration-color: #00d7ff\">None</span>, <span style=\"color: #00af00; text-decoration-color: #00af00\">5</span>, <span style=\"color: #00af00; text-decoration-color: #00af00\">128</span>)    │          <span style=\"color: #00af00; text-decoration-color: #00af00\">0</span> │ add[<span style=\"color: #00af00; text-decoration-color: #00af00\">0</span>][<span style=\"color: #00af00; text-decoration-color: #00af00\">0</span>]         │\n",
       "│ (<span style=\"color: #0087ff; text-decoration-color: #0087ff\">MaxPooling1D</span>)      │                   │            │                   │\n",
       "├─────────────────────┼───────────────────┼────────────┼───────────────────┤\n",
       "│ dropout_1 (<span style=\"color: #0087ff; text-decoration-color: #0087ff\">Dropout</span>) │ (<span style=\"color: #00d7ff; text-decoration-color: #00d7ff\">None</span>, <span style=\"color: #00af00; text-decoration-color: #00af00\">5</span>, <span style=\"color: #00af00; text-decoration-color: #00af00\">128</span>)    │          <span style=\"color: #00af00; text-decoration-color: #00af00\">0</span> │ max_pooling1d_1[<span style=\"color: #00af00; text-decoration-color: #00af00\">…</span> │\n",
       "├─────────────────────┼───────────────────┼────────────┼───────────────────┤\n",
       "│ conv1d_3 (<span style=\"color: #0087ff; text-decoration-color: #0087ff\">Conv1D</span>)   │ (<span style=\"color: #00d7ff; text-decoration-color: #00d7ff\">None</span>, <span style=\"color: #00af00; text-decoration-color: #00af00\">5</span>, <span style=\"color: #00af00; text-decoration-color: #00af00\">256</span>)    │     <span style=\"color: #00af00; text-decoration-color: #00af00\">98,560</span> │ dropout_1[<span style=\"color: #00af00; text-decoration-color: #00af00\">0</span>][<span style=\"color: #00af00; text-decoration-color: #00af00\">0</span>]   │\n",
       "├─────────────────────┼───────────────────┼────────────┼───────────────────┤\n",
       "│ batch_normalizatio… │ (<span style=\"color: #00d7ff; text-decoration-color: #00d7ff\">None</span>, <span style=\"color: #00af00; text-decoration-color: #00af00\">5</span>, <span style=\"color: #00af00; text-decoration-color: #00af00\">256</span>)    │      <span style=\"color: #00af00; text-decoration-color: #00af00\">1,024</span> │ conv1d_3[<span style=\"color: #00af00; text-decoration-color: #00af00\">0</span>][<span style=\"color: #00af00; text-decoration-color: #00af00\">0</span>]    │\n",
       "│ (<span style=\"color: #0087ff; text-decoration-color: #0087ff\">BatchNormalizatio…</span> │                   │            │                   │\n",
       "├─────────────────────┼───────────────────┼────────────┼───────────────────┤\n",
       "│ max_pooling1d_2     │ (<span style=\"color: #00d7ff; text-decoration-color: #00d7ff\">None</span>, <span style=\"color: #00af00; text-decoration-color: #00af00\">2</span>, <span style=\"color: #00af00; text-decoration-color: #00af00\">256</span>)    │          <span style=\"color: #00af00; text-decoration-color: #00af00\">0</span> │ batch_normalizat… │\n",
       "│ (<span style=\"color: #0087ff; text-decoration-color: #0087ff\">MaxPooling1D</span>)      │                   │            │                   │\n",
       "├─────────────────────┼───────────────────┼────────────┼───────────────────┤\n",
       "│ dropout_2 (<span style=\"color: #0087ff; text-decoration-color: #0087ff\">Dropout</span>) │ (<span style=\"color: #00d7ff; text-decoration-color: #00d7ff\">None</span>, <span style=\"color: #00af00; text-decoration-color: #00af00\">2</span>, <span style=\"color: #00af00; text-decoration-color: #00af00\">256</span>)    │          <span style=\"color: #00af00; text-decoration-color: #00af00\">0</span> │ max_pooling1d_2[<span style=\"color: #00af00; text-decoration-color: #00af00\">…</span> │\n",
       "├─────────────────────┼───────────────────┼────────────┼───────────────────┤\n",
       "│ flatten (<span style=\"color: #0087ff; text-decoration-color: #0087ff\">Flatten</span>)   │ (<span style=\"color: #00d7ff; text-decoration-color: #00d7ff\">None</span>, <span style=\"color: #00af00; text-decoration-color: #00af00\">512</span>)       │          <span style=\"color: #00af00; text-decoration-color: #00af00\">0</span> │ dropout_2[<span style=\"color: #00af00; text-decoration-color: #00af00\">0</span>][<span style=\"color: #00af00; text-decoration-color: #00af00\">0</span>]   │\n",
       "├─────────────────────┼───────────────────┼────────────┼───────────────────┤\n",
       "│ dense (<span style=\"color: #0087ff; text-decoration-color: #0087ff\">Dense</span>)       │ (<span style=\"color: #00d7ff; text-decoration-color: #00d7ff\">None</span>, <span style=\"color: #00af00; text-decoration-color: #00af00\">512</span>)       │    <span style=\"color: #00af00; text-decoration-color: #00af00\">262,656</span> │ flatten[<span style=\"color: #00af00; text-decoration-color: #00af00\">0</span>][<span style=\"color: #00af00; text-decoration-color: #00af00\">0</span>]     │\n",
       "├─────────────────────┼───────────────────┼────────────┼───────────────────┤\n",
       "│ dropout_3 (<span style=\"color: #0087ff; text-decoration-color: #0087ff\">Dropout</span>) │ (<span style=\"color: #00d7ff; text-decoration-color: #00d7ff\">None</span>, <span style=\"color: #00af00; text-decoration-color: #00af00\">512</span>)       │          <span style=\"color: #00af00; text-decoration-color: #00af00\">0</span> │ dense[<span style=\"color: #00af00; text-decoration-color: #00af00\">0</span>][<span style=\"color: #00af00; text-decoration-color: #00af00\">0</span>]       │\n",
       "├─────────────────────┼───────────────────┼────────────┼───────────────────┤\n",
       "│ dense_1 (<span style=\"color: #0087ff; text-decoration-color: #0087ff\">Dense</span>)     │ (<span style=\"color: #00d7ff; text-decoration-color: #00d7ff\">None</span>, <span style=\"color: #00af00; text-decoration-color: #00af00\">5</span>)         │      <span style=\"color: #00af00; text-decoration-color: #00af00\">2,565</span> │ dropout_3[<span style=\"color: #00af00; text-decoration-color: #00af00\">0</span>][<span style=\"color: #00af00; text-decoration-color: #00af00\">0</span>]   │\n",
       "└─────────────────────┴───────────────────┴────────────┴───────────────────┘\n",
       "</pre>\n"
      ],
      "text/plain": [
       "┏━━━━━━━━━━━━━━━━━━━━━┳━━━━━━━━━━━━━━━━━━━┳━━━━━━━━━━━━┳━━━━━━━━━━━━━━━━━━━┓\n",
       "┃\u001b[1m \u001b[0m\u001b[1mLayer (type)       \u001b[0m\u001b[1m \u001b[0m┃\u001b[1m \u001b[0m\u001b[1mOutput Shape     \u001b[0m\u001b[1m \u001b[0m┃\u001b[1m \u001b[0m\u001b[1m   Param #\u001b[0m\u001b[1m \u001b[0m┃\u001b[1m \u001b[0m\u001b[1mConnected to     \u001b[0m\u001b[1m \u001b[0m┃\n",
       "┡━━━━━━━━━━━━━━━━━━━━━╇━━━━━━━━━━━━━━━━━━━╇━━━━━━━━━━━━╇━━━━━━━━━━━━━━━━━━━┩\n",
       "│ input_layer         │ (\u001b[38;5;45mNone\u001b[0m, \u001b[38;5;34m23\u001b[0m, \u001b[38;5;34m1\u001b[0m)     │          \u001b[38;5;34m0\u001b[0m │ -                 │\n",
       "│ (\u001b[38;5;33mInputLayer\u001b[0m)        │                   │            │                   │\n",
       "├─────────────────────┼───────────────────┼────────────┼───────────────────┤\n",
       "│ conv1d (\u001b[38;5;33mConv1D\u001b[0m)     │ (\u001b[38;5;45mNone\u001b[0m, \u001b[38;5;34m23\u001b[0m, \u001b[38;5;34m64\u001b[0m)    │        \u001b[38;5;34m256\u001b[0m │ input_layer[\u001b[38;5;34m0\u001b[0m][\u001b[38;5;34m0\u001b[0m] │\n",
       "├─────────────────────┼───────────────────┼────────────┼───────────────────┤\n",
       "│ batch_normalization │ (\u001b[38;5;45mNone\u001b[0m, \u001b[38;5;34m23\u001b[0m, \u001b[38;5;34m64\u001b[0m)    │        \u001b[38;5;34m256\u001b[0m │ conv1d[\u001b[38;5;34m0\u001b[0m][\u001b[38;5;34m0\u001b[0m]      │\n",
       "│ (\u001b[38;5;33mBatchNormalizatio…\u001b[0m │                   │            │                   │\n",
       "├─────────────────────┼───────────────────┼────────────┼───────────────────┤\n",
       "│ max_pooling1d       │ (\u001b[38;5;45mNone\u001b[0m, \u001b[38;5;34m11\u001b[0m, \u001b[38;5;34m64\u001b[0m)    │          \u001b[38;5;34m0\u001b[0m │ batch_normalizat… │\n",
       "│ (\u001b[38;5;33mMaxPooling1D\u001b[0m)      │                   │            │                   │\n",
       "├─────────────────────┼───────────────────┼────────────┼───────────────────┤\n",
       "│ dropout (\u001b[38;5;33mDropout\u001b[0m)   │ (\u001b[38;5;45mNone\u001b[0m, \u001b[38;5;34m11\u001b[0m, \u001b[38;5;34m64\u001b[0m)    │          \u001b[38;5;34m0\u001b[0m │ max_pooling1d[\u001b[38;5;34m0\u001b[0m]… │\n",
       "├─────────────────────┼───────────────────┼────────────┼───────────────────┤\n",
       "│ conv1d_2 (\u001b[38;5;33mConv1D\u001b[0m)   │ (\u001b[38;5;45mNone\u001b[0m, \u001b[38;5;34m11\u001b[0m, \u001b[38;5;34m128\u001b[0m)   │     \u001b[38;5;34m24,704\u001b[0m │ dropout[\u001b[38;5;34m0\u001b[0m][\u001b[38;5;34m0\u001b[0m]     │\n",
       "├─────────────────────┼───────────────────┼────────────┼───────────────────┤\n",
       "│ batch_normalizatio… │ (\u001b[38;5;45mNone\u001b[0m, \u001b[38;5;34m11\u001b[0m, \u001b[38;5;34m128\u001b[0m)   │        \u001b[38;5;34m512\u001b[0m │ conv1d_2[\u001b[38;5;34m0\u001b[0m][\u001b[38;5;34m0\u001b[0m]    │\n",
       "│ (\u001b[38;5;33mBatchNormalizatio…\u001b[0m │                   │            │                   │\n",
       "├─────────────────────┼───────────────────┼────────────┼───────────────────┤\n",
       "│ conv1d_1 (\u001b[38;5;33mConv1D\u001b[0m)   │ (\u001b[38;5;45mNone\u001b[0m, \u001b[38;5;34m11\u001b[0m, \u001b[38;5;34m128\u001b[0m)   │     \u001b[38;5;34m24,704\u001b[0m │ dropout[\u001b[38;5;34m0\u001b[0m][\u001b[38;5;34m0\u001b[0m]     │\n",
       "├─────────────────────┼───────────────────┼────────────┼───────────────────┤\n",
       "│ add (\u001b[38;5;33mAdd\u001b[0m)           │ (\u001b[38;5;45mNone\u001b[0m, \u001b[38;5;34m11\u001b[0m, \u001b[38;5;34m128\u001b[0m)   │          \u001b[38;5;34m0\u001b[0m │ batch_normalizat… │\n",
       "│                     │                   │            │ conv1d_1[\u001b[38;5;34m0\u001b[0m][\u001b[38;5;34m0\u001b[0m]    │\n",
       "├─────────────────────┼───────────────────┼────────────┼───────────────────┤\n",
       "│ max_pooling1d_1     │ (\u001b[38;5;45mNone\u001b[0m, \u001b[38;5;34m5\u001b[0m, \u001b[38;5;34m128\u001b[0m)    │          \u001b[38;5;34m0\u001b[0m │ add[\u001b[38;5;34m0\u001b[0m][\u001b[38;5;34m0\u001b[0m]         │\n",
       "│ (\u001b[38;5;33mMaxPooling1D\u001b[0m)      │                   │            │                   │\n",
       "├─────────────────────┼───────────────────┼────────────┼───────────────────┤\n",
       "│ dropout_1 (\u001b[38;5;33mDropout\u001b[0m) │ (\u001b[38;5;45mNone\u001b[0m, \u001b[38;5;34m5\u001b[0m, \u001b[38;5;34m128\u001b[0m)    │          \u001b[38;5;34m0\u001b[0m │ max_pooling1d_1[\u001b[38;5;34m…\u001b[0m │\n",
       "├─────────────────────┼───────────────────┼────────────┼───────────────────┤\n",
       "│ conv1d_3 (\u001b[38;5;33mConv1D\u001b[0m)   │ (\u001b[38;5;45mNone\u001b[0m, \u001b[38;5;34m5\u001b[0m, \u001b[38;5;34m256\u001b[0m)    │     \u001b[38;5;34m98,560\u001b[0m │ dropout_1[\u001b[38;5;34m0\u001b[0m][\u001b[38;5;34m0\u001b[0m]   │\n",
       "├─────────────────────┼───────────────────┼────────────┼───────────────────┤\n",
       "│ batch_normalizatio… │ (\u001b[38;5;45mNone\u001b[0m, \u001b[38;5;34m5\u001b[0m, \u001b[38;5;34m256\u001b[0m)    │      \u001b[38;5;34m1,024\u001b[0m │ conv1d_3[\u001b[38;5;34m0\u001b[0m][\u001b[38;5;34m0\u001b[0m]    │\n",
       "│ (\u001b[38;5;33mBatchNormalizatio…\u001b[0m │                   │            │                   │\n",
       "├─────────────────────┼───────────────────┼────────────┼───────────────────┤\n",
       "│ max_pooling1d_2     │ (\u001b[38;5;45mNone\u001b[0m, \u001b[38;5;34m2\u001b[0m, \u001b[38;5;34m256\u001b[0m)    │          \u001b[38;5;34m0\u001b[0m │ batch_normalizat… │\n",
       "│ (\u001b[38;5;33mMaxPooling1D\u001b[0m)      │                   │            │                   │\n",
       "├─────────────────────┼───────────────────┼────────────┼───────────────────┤\n",
       "│ dropout_2 (\u001b[38;5;33mDropout\u001b[0m) │ (\u001b[38;5;45mNone\u001b[0m, \u001b[38;5;34m2\u001b[0m, \u001b[38;5;34m256\u001b[0m)    │          \u001b[38;5;34m0\u001b[0m │ max_pooling1d_2[\u001b[38;5;34m…\u001b[0m │\n",
       "├─────────────────────┼───────────────────┼────────────┼───────────────────┤\n",
       "│ flatten (\u001b[38;5;33mFlatten\u001b[0m)   │ (\u001b[38;5;45mNone\u001b[0m, \u001b[38;5;34m512\u001b[0m)       │          \u001b[38;5;34m0\u001b[0m │ dropout_2[\u001b[38;5;34m0\u001b[0m][\u001b[38;5;34m0\u001b[0m]   │\n",
       "├─────────────────────┼───────────────────┼────────────┼───────────────────┤\n",
       "│ dense (\u001b[38;5;33mDense\u001b[0m)       │ (\u001b[38;5;45mNone\u001b[0m, \u001b[38;5;34m512\u001b[0m)       │    \u001b[38;5;34m262,656\u001b[0m │ flatten[\u001b[38;5;34m0\u001b[0m][\u001b[38;5;34m0\u001b[0m]     │\n",
       "├─────────────────────┼───────────────────┼────────────┼───────────────────┤\n",
       "│ dropout_3 (\u001b[38;5;33mDropout\u001b[0m) │ (\u001b[38;5;45mNone\u001b[0m, \u001b[38;5;34m512\u001b[0m)       │          \u001b[38;5;34m0\u001b[0m │ dense[\u001b[38;5;34m0\u001b[0m][\u001b[38;5;34m0\u001b[0m]       │\n",
       "├─────────────────────┼───────────────────┼────────────┼───────────────────┤\n",
       "│ dense_1 (\u001b[38;5;33mDense\u001b[0m)     │ (\u001b[38;5;45mNone\u001b[0m, \u001b[38;5;34m5\u001b[0m)         │      \u001b[38;5;34m2,565\u001b[0m │ dropout_3[\u001b[38;5;34m0\u001b[0m][\u001b[38;5;34m0\u001b[0m]   │\n",
       "└─────────────────────┴───────────────────┴────────────┴───────────────────┘\n"
      ]
     },
     "metadata": {},
     "output_type": "display_data"
    },
    {
     "data": {
      "text/html": [
       "<pre style=\"white-space:pre;overflow-x:auto;line-height:normal;font-family:Menlo,'DejaVu Sans Mono',consolas,'Courier New',monospace\"><span style=\"font-weight: bold\"> Total params: </span><span style=\"color: #00af00; text-decoration-color: #00af00\">415,237</span> (1.58 MB)\n",
       "</pre>\n"
      ],
      "text/plain": [
       "\u001b[1m Total params: \u001b[0m\u001b[38;5;34m415,237\u001b[0m (1.58 MB)\n"
      ]
     },
     "metadata": {},
     "output_type": "display_data"
    },
    {
     "data": {
      "text/html": [
       "<pre style=\"white-space:pre;overflow-x:auto;line-height:normal;font-family:Menlo,'DejaVu Sans Mono',consolas,'Courier New',monospace\"><span style=\"font-weight: bold\"> Trainable params: </span><span style=\"color: #00af00; text-decoration-color: #00af00\">414,341</span> (1.58 MB)\n",
       "</pre>\n"
      ],
      "text/plain": [
       "\u001b[1m Trainable params: \u001b[0m\u001b[38;5;34m414,341\u001b[0m (1.58 MB)\n"
      ]
     },
     "metadata": {},
     "output_type": "display_data"
    },
    {
     "data": {
      "text/html": [
       "<pre style=\"white-space:pre;overflow-x:auto;line-height:normal;font-family:Menlo,'DejaVu Sans Mono',consolas,'Courier New',monospace\"><span style=\"font-weight: bold\"> Non-trainable params: </span><span style=\"color: #00af00; text-decoration-color: #00af00\">896</span> (3.50 KB)\n",
       "</pre>\n"
      ],
      "text/plain": [
       "\u001b[1m Non-trainable params: \u001b[0m\u001b[38;5;34m896\u001b[0m (3.50 KB)\n"
      ]
     },
     "metadata": {},
     "output_type": "display_data"
    },
    {
     "name": "stdout",
     "output_type": "stream",
     "text": [
      "Deep residual CNN model defined.\n"
     ]
    }
   ],
   "source": [
    "# Function to build a deep residual CNN model with Conv1D layers\n",
    "def build_residual_cnn(input_shape, num_classes):\n",
    "    input_layer = Input(shape=input_shape)\n",
    "    \n",
    "    # First Conv1D Block\n",
    "    x = Conv1D(64, kernel_size=3, activation='relu', padding='same', kernel_regularizer=l2(0.001))(input_layer)\n",
    "    x = BatchNormalization()(x)\n",
    "    x = MaxPooling1D(pool_size=2)(x)\n",
    "    x = Dropout(0.3)(x)\n",
    "\n",
    "    # Second Conv1D Block with residual connection\n",
    "    residual = Conv1D(128, kernel_size=3, padding='same')(x)  # Adjust dimensions with padding\n",
    "    x = Conv1D(128, kernel_size=3, activation='relu', padding='same', kernel_regularizer=l2(0.001))(x)\n",
    "    x = BatchNormalization()(x)\n",
    "    x = Add()([x, residual])  # Add residual connection\n",
    "    x = MaxPooling1D(pool_size=2)(x)\n",
    "    x = Dropout(0.4)(x)\n",
    "\n",
    "    # Third Conv1D Block\n",
    "    x = Conv1D(256, kernel_size=3, activation='relu', padding='same', kernel_regularizer=l2(0.001))(x)\n",
    "    x = BatchNormalization()(x)\n",
    "    x = MaxPooling1D(pool_size=2)(x)\n",
    "    x = Dropout(0.5)(x)\n",
    "\n",
    "    # Flatten and Dense Layers\n",
    "    x = Flatten()(x)\n",
    "    x = Dense(512, activation='relu', kernel_regularizer=l2(0.001))(x)\n",
    "    x = Dropout(0.5)(x)\n",
    "    output_layer = Dense(num_classes, activation='softmax')(x)\n",
    "\n",
    "    model = Model(inputs=input_layer, outputs=output_layer)\n",
    "    return model\n",
    "\n",
    "# Build the model\n",
    "model = build_residual_cnn(input_shape=(X_train_reshaped.shape[1], 1), num_classes=y_train_categorical.shape[1])\n",
    "\n",
    "# Display model summary\n",
    "model.summary()\n",
    "print(\"Deep residual CNN model defined.\")\n"
   ]
  },
  {
   "cell_type": "markdown",
   "metadata": {},
   "source": [
    "**Compile the Model**"
   ]
  },
  {
   "cell_type": "code",
   "execution_count": 120,
   "metadata": {},
   "outputs": [
    {
     "name": "stdout",
     "output_type": "stream",
     "text": [
      "Model compiled.\n"
     ]
    }
   ],
   "source": [
    "# Compile the model with Adam optimizer and categorical crossentropy loss for multi-class classification\n",
    "model.compile(optimizer=Adam(learning_rate=0.001), loss='categorical_crossentropy', metrics=['accuracy'])\n",
    "print(\"Model compiled.\")\n"
   ]
  },
  {
   "cell_type": "markdown",
   "metadata": {},
   "source": [
    "**Set Up Callbacks**"
   ]
  },
  {
   "cell_type": "code",
   "execution_count": 121,
   "metadata": {},
   "outputs": [
    {
     "name": "stdout",
     "output_type": "stream",
     "text": [
      "Callbacks set up.\n"
     ]
    }
   ],
   "source": [
    "# Define callbacks for early stopping, model checkpoint, and reducing learning rate on plateau\n",
    "callbacks = [\n",
    "    EarlyStopping(monitor='val_loss', patience=10, restore_best_weights=True),\n",
    "    ModelCheckpoint('best_residual_model.keras', monitor='val_loss', save_best_only=True),\n",
    "    ReduceLROnPlateau(monitor='val_loss', factor=0.5, patience=5, min_lr=1e-6, verbose=1)\n",
    "]\n",
    "\n",
    "print(\"Callbacks set up.\")\n"
   ]
  },
  {
   "cell_type": "markdown",
   "metadata": {},
   "source": [
    "**Train the Model**"
   ]
  },
  {
   "cell_type": "code",
   "execution_count": 122,
   "metadata": {},
   "outputs": [
    {
     "name": "stdout",
     "output_type": "stream",
     "text": [
      "Epoch 1/100\n",
      "\u001b[1m51/51\u001b[0m \u001b[32m━━━━━━━━━━━━━━━━━━━━\u001b[0m\u001b[37m\u001b[0m \u001b[1m4s\u001b[0m 17ms/step - accuracy: 0.3365 - loss: 3.2376 - val_accuracy: 0.2601 - val_loss: 2.0785 - learning_rate: 0.0010\n",
      "Epoch 2/100\n",
      "\u001b[1m51/51\u001b[0m \u001b[32m━━━━━━━━━━━━━━━━━━━━\u001b[0m\u001b[37m\u001b[0m \u001b[1m1s\u001b[0m 11ms/step - accuracy: 0.6610 - loss: 1.7458 - val_accuracy: 0.3926 - val_loss: 1.9693 - learning_rate: 0.0010\n",
      "Epoch 3/100\n",
      "\u001b[1m51/51\u001b[0m \u001b[32m━━━━━━━━━━━━━━━━━━━━\u001b[0m\u001b[37m\u001b[0m \u001b[1m1s\u001b[0m 11ms/step - accuracy: 0.7470 - loss: 1.4929 - val_accuracy: 0.7215 - val_loss: 1.5064 - learning_rate: 0.0010\n",
      "Epoch 4/100\n",
      "\u001b[1m51/51\u001b[0m \u001b[32m━━━━━━━━━━━━━━━━━━━━\u001b[0m\u001b[37m\u001b[0m \u001b[1m1s\u001b[0m 12ms/step - accuracy: 0.8055 - loss: 1.2890 - val_accuracy: 0.8540 - val_loss: 1.1998 - learning_rate: 0.0010\n",
      "Epoch 5/100\n",
      "\u001b[1m51/51\u001b[0m \u001b[32m━━━━━━━━━━━━━━━━━━━━\u001b[0m\u001b[37m\u001b[0m \u001b[1m1s\u001b[0m 12ms/step - accuracy: 0.8493 - loss: 1.1811 - val_accuracy: 0.8761 - val_loss: 1.1344 - learning_rate: 0.0010\n",
      "Epoch 6/100\n",
      "\u001b[1m51/51\u001b[0m \u001b[32m━━━━━━━━━━━━━━━━━━━━\u001b[0m\u001b[37m\u001b[0m \u001b[1m1s\u001b[0m 11ms/step - accuracy: 0.8739 - loss: 1.1171 - val_accuracy: 0.9215 - val_loss: 1.0498 - learning_rate: 0.0010\n",
      "Epoch 7/100\n",
      "\u001b[1m51/51\u001b[0m \u001b[32m━━━━━━━━━━━━━━━━━━━━\u001b[0m\u001b[37m\u001b[0m \u001b[1m1s\u001b[0m 11ms/step - accuracy: 0.8839 - loss: 1.0698 - val_accuracy: 0.9252 - val_loss: 1.0333 - learning_rate: 0.0010\n",
      "Epoch 8/100\n",
      "\u001b[1m51/51\u001b[0m \u001b[32m━━━━━━━━━━━━━━━━━━━━\u001b[0m\u001b[37m\u001b[0m \u001b[1m1s\u001b[0m 11ms/step - accuracy: 0.9032 - loss: 1.0091 - val_accuracy: 0.9411 - val_loss: 0.9860 - learning_rate: 0.0010\n",
      "Epoch 9/100\n",
      "\u001b[1m51/51\u001b[0m \u001b[32m━━━━━━━━━━━━━━━━━━━━\u001b[0m\u001b[37m\u001b[0m \u001b[1m1s\u001b[0m 11ms/step - accuracy: 0.9200 - loss: 0.9599 - val_accuracy: 0.9460 - val_loss: 0.9545 - learning_rate: 0.0010\n",
      "Epoch 10/100\n",
      "\u001b[1m51/51\u001b[0m \u001b[32m━━━━━━━━━━━━━━━━━━━━\u001b[0m\u001b[37m\u001b[0m \u001b[1m1s\u001b[0m 12ms/step - accuracy: 0.9242 - loss: 0.9139 - val_accuracy: 0.9460 - val_loss: 0.9071 - learning_rate: 0.0010\n",
      "Epoch 11/100\n",
      "\u001b[1m51/51\u001b[0m \u001b[32m━━━━━━━━━━━━━━━━━━━━\u001b[0m\u001b[37m\u001b[0m \u001b[1m1s\u001b[0m 13ms/step - accuracy: 0.9101 - loss: 0.9264 - val_accuracy: 0.9485 - val_loss: 0.8732 - learning_rate: 0.0010\n",
      "Epoch 12/100\n",
      "\u001b[1m51/51\u001b[0m \u001b[32m━━━━━━━━━━━━━━━━━━━━\u001b[0m\u001b[37m\u001b[0m \u001b[1m1s\u001b[0m 11ms/step - accuracy: 0.9279 - loss: 0.8677 - val_accuracy: 0.9485 - val_loss: 0.8360 - learning_rate: 0.0010\n",
      "Epoch 13/100\n",
      "\u001b[1m51/51\u001b[0m \u001b[32m━━━━━━━━━━━━━━━━━━━━\u001b[0m\u001b[37m\u001b[0m \u001b[1m1s\u001b[0m 10ms/step - accuracy: 0.9283 - loss: 0.8439 - val_accuracy: 0.9448 - val_loss: 0.8389 - learning_rate: 0.0010\n",
      "Epoch 14/100\n",
      "\u001b[1m51/51\u001b[0m \u001b[32m━━━━━━━━━━━━━━━━━━━━\u001b[0m\u001b[37m\u001b[0m \u001b[1m1s\u001b[0m 11ms/step - accuracy: 0.9304 - loss: 0.8148 - val_accuracy: 0.9485 - val_loss: 0.7856 - learning_rate: 0.0010\n",
      "Epoch 15/100\n",
      "\u001b[1m51/51\u001b[0m \u001b[32m━━━━━━━━━━━━━━━━━━━━\u001b[0m\u001b[37m\u001b[0m \u001b[1m1s\u001b[0m 12ms/step - accuracy: 0.9295 - loss: 0.8001 - val_accuracy: 0.9472 - val_loss: 0.7859 - learning_rate: 0.0010\n",
      "Epoch 16/100\n",
      "\u001b[1m51/51\u001b[0m \u001b[32m━━━━━━━━━━━━━━━━━━━━\u001b[0m\u001b[37m\u001b[0m \u001b[1m1s\u001b[0m 12ms/step - accuracy: 0.9318 - loss: 0.7634 - val_accuracy: 0.9485 - val_loss: 0.7419 - learning_rate: 0.0010\n",
      "Epoch 17/100\n",
      "\u001b[1m51/51\u001b[0m \u001b[32m━━━━━━━━━━━━━━━━━━━━\u001b[0m\u001b[37m\u001b[0m \u001b[1m1s\u001b[0m 11ms/step - accuracy: 0.9360 - loss: 0.7317 - val_accuracy: 0.9448 - val_loss: 0.7227 - learning_rate: 0.0010\n",
      "Epoch 18/100\n",
      "\u001b[1m51/51\u001b[0m \u001b[32m━━━━━━━━━━━━━━━━━━━━\u001b[0m\u001b[37m\u001b[0m \u001b[1m1s\u001b[0m 11ms/step - accuracy: 0.9428 - loss: 0.7128 - val_accuracy: 0.9485 - val_loss: 0.7043 - learning_rate: 0.0010\n",
      "Epoch 19/100\n",
      "\u001b[1m51/51\u001b[0m \u001b[32m━━━━━━━━━━━━━━━━━━━━\u001b[0m\u001b[37m\u001b[0m \u001b[1m1s\u001b[0m 11ms/step - accuracy: 0.9402 - loss: 0.6889 - val_accuracy: 0.9436 - val_loss: 0.6950 - learning_rate: 0.0010\n",
      "Epoch 20/100\n",
      "\u001b[1m51/51\u001b[0m \u001b[32m━━━━━━━━━━━━━━━━━━━━\u001b[0m\u001b[37m\u001b[0m \u001b[1m1s\u001b[0m 10ms/step - accuracy: 0.9461 - loss: 0.6594 - val_accuracy: 0.9485 - val_loss: 0.6670 - learning_rate: 0.0010\n",
      "Epoch 21/100\n",
      "\u001b[1m51/51\u001b[0m \u001b[32m━━━━━━━━━━━━━━━━━━━━\u001b[0m\u001b[37m\u001b[0m \u001b[1m1s\u001b[0m 13ms/step - accuracy: 0.9387 - loss: 0.6507 - val_accuracy: 0.9485 - val_loss: 0.6511 - learning_rate: 0.0010\n",
      "Epoch 22/100\n",
      "\u001b[1m51/51\u001b[0m \u001b[32m━━━━━━━━━━━━━━━━━━━━\u001b[0m\u001b[37m\u001b[0m \u001b[1m1s\u001b[0m 11ms/step - accuracy: 0.9419 - loss: 0.6295 - val_accuracy: 0.9497 - val_loss: 0.6350 - learning_rate: 0.0010\n",
      "Epoch 23/100\n",
      "\u001b[1m51/51\u001b[0m \u001b[32m━━━━━━━━━━━━━━━━━━━━\u001b[0m\u001b[37m\u001b[0m \u001b[1m1s\u001b[0m 14ms/step - accuracy: 0.9411 - loss: 0.6341 - val_accuracy: 0.9436 - val_loss: 0.6262 - learning_rate: 0.0010\n",
      "Epoch 24/100\n",
      "\u001b[1m51/51\u001b[0m \u001b[32m━━━━━━━━━━━━━━━━━━━━\u001b[0m\u001b[37m\u001b[0m \u001b[1m1s\u001b[0m 13ms/step - accuracy: 0.9470 - loss: 0.5833 - val_accuracy: 0.9472 - val_loss: 0.6115 - learning_rate: 0.0010\n",
      "Epoch 25/100\n",
      "\u001b[1m51/51\u001b[0m \u001b[32m━━━━━━━━━━━━━━━━━━━━\u001b[0m\u001b[37m\u001b[0m \u001b[1m1s\u001b[0m 13ms/step - accuracy: 0.9367 - loss: 0.6002 - val_accuracy: 0.9460 - val_loss: 0.6010 - learning_rate: 0.0010\n",
      "Epoch 26/100\n",
      "\u001b[1m51/51\u001b[0m \u001b[32m━━━━━━━━━━━━━━━━━━━━\u001b[0m\u001b[37m\u001b[0m \u001b[1m1s\u001b[0m 12ms/step - accuracy: 0.9402 - loss: 0.5858 - val_accuracy: 0.9485 - val_loss: 0.5998 - learning_rate: 0.0010\n",
      "Epoch 27/100\n",
      "\u001b[1m51/51\u001b[0m \u001b[32m━━━━━━━━━━━━━━━━━━━━\u001b[0m\u001b[37m\u001b[0m \u001b[1m1s\u001b[0m 12ms/step - accuracy: 0.9432 - loss: 0.5465 - val_accuracy: 0.9485 - val_loss: 0.6033 - learning_rate: 0.0010\n",
      "Epoch 28/100\n",
      "\u001b[1m51/51\u001b[0m \u001b[32m━━━━━━━━━━━━━━━━━━━━\u001b[0m\u001b[37m\u001b[0m \u001b[1m1s\u001b[0m 13ms/step - accuracy: 0.9455 - loss: 0.5311 - val_accuracy: 0.9472 - val_loss: 0.5692 - learning_rate: 0.0010\n",
      "Epoch 29/100\n",
      "\u001b[1m51/51\u001b[0m \u001b[32m━━━━━━━━━━━━━━━━━━━━\u001b[0m\u001b[37m\u001b[0m \u001b[1m1s\u001b[0m 12ms/step - accuracy: 0.9526 - loss: 0.5153 - val_accuracy: 0.9472 - val_loss: 0.5521 - learning_rate: 0.0010\n",
      "Epoch 30/100\n",
      "\u001b[1m51/51\u001b[0m \u001b[32m━━━━━━━━━━━━━━━━━━━━\u001b[0m\u001b[37m\u001b[0m \u001b[1m1s\u001b[0m 12ms/step - accuracy: 0.9474 - loss: 0.5157 - val_accuracy: 0.9485 - val_loss: 0.5469 - learning_rate: 0.0010\n",
      "Epoch 31/100\n",
      "\u001b[1m51/51\u001b[0m \u001b[32m━━━━━━━━━━━━━━━━━━━━\u001b[0m\u001b[37m\u001b[0m \u001b[1m1s\u001b[0m 11ms/step - accuracy: 0.9460 - loss: 0.4992 - val_accuracy: 0.9472 - val_loss: 0.5413 - learning_rate: 0.0010\n",
      "Epoch 32/100\n",
      "\u001b[1m51/51\u001b[0m \u001b[32m━━━━━━━━━━━━━━━━━━━━\u001b[0m\u001b[37m\u001b[0m \u001b[1m1s\u001b[0m 11ms/step - accuracy: 0.9493 - loss: 0.4848 - val_accuracy: 0.9448 - val_loss: 0.5224 - learning_rate: 0.0010\n",
      "Epoch 33/100\n",
      "\u001b[1m51/51\u001b[0m \u001b[32m━━━━━━━━━━━━━━━━━━━━\u001b[0m\u001b[37m\u001b[0m \u001b[1m1s\u001b[0m 11ms/step - accuracy: 0.9566 - loss: 0.4492 - val_accuracy: 0.9485 - val_loss: 0.5124 - learning_rate: 0.0010\n",
      "Epoch 34/100\n",
      "\u001b[1m51/51\u001b[0m \u001b[32m━━━━━━━━━━━━━━━━━━━━\u001b[0m\u001b[37m\u001b[0m \u001b[1m1s\u001b[0m 11ms/step - accuracy: 0.9519 - loss: 0.4402 - val_accuracy: 0.9497 - val_loss: 0.4989 - learning_rate: 0.0010\n",
      "Epoch 35/100\n",
      "\u001b[1m51/51\u001b[0m \u001b[32m━━━━━━━━━━━━━━━━━━━━\u001b[0m\u001b[37m\u001b[0m \u001b[1m1s\u001b[0m 13ms/step - accuracy: 0.9454 - loss: 0.4386 - val_accuracy: 0.9472 - val_loss: 0.4859 - learning_rate: 0.0010\n",
      "Epoch 36/100\n",
      "\u001b[1m51/51\u001b[0m \u001b[32m━━━━━━━━━━━━━━━━━━━━\u001b[0m\u001b[37m\u001b[0m \u001b[1m1s\u001b[0m 13ms/step - accuracy: 0.9520 - loss: 0.4410 - val_accuracy: 0.9472 - val_loss: 0.4909 - learning_rate: 0.0010\n",
      "Epoch 37/100\n",
      "\u001b[1m51/51\u001b[0m \u001b[32m━━━━━━━━━━━━━━━━━━━━\u001b[0m\u001b[37m\u001b[0m \u001b[1m1s\u001b[0m 14ms/step - accuracy: 0.9440 - loss: 0.4339 - val_accuracy: 0.9509 - val_loss: 0.4855 - learning_rate: 0.0010\n",
      "Epoch 38/100\n",
      "\u001b[1m51/51\u001b[0m \u001b[32m━━━━━━━━━━━━━━━━━━━━\u001b[0m\u001b[37m\u001b[0m \u001b[1m1s\u001b[0m 12ms/step - accuracy: 0.9580 - loss: 0.4180 - val_accuracy: 0.9497 - val_loss: 0.4872 - learning_rate: 0.0010\n",
      "Epoch 39/100\n",
      "\u001b[1m51/51\u001b[0m \u001b[32m━━━━━━━━━━━━━━━━━━━━\u001b[0m\u001b[37m\u001b[0m \u001b[1m1s\u001b[0m 12ms/step - accuracy: 0.9466 - loss: 0.4385 - val_accuracy: 0.9497 - val_loss: 0.4880 - learning_rate: 0.0010\n",
      "Epoch 40/100\n",
      "\u001b[1m51/51\u001b[0m \u001b[32m━━━━━━━━━━━━━━━━━━━━\u001b[0m\u001b[37m\u001b[0m \u001b[1m1s\u001b[0m 13ms/step - accuracy: 0.9525 - loss: 0.4073 - val_accuracy: 0.9460 - val_loss: 0.4730 - learning_rate: 0.0010\n",
      "Epoch 41/100\n",
      "\u001b[1m51/51\u001b[0m \u001b[32m━━━━━━━━━━━━━━━━━━━━\u001b[0m\u001b[37m\u001b[0m \u001b[1m1s\u001b[0m 14ms/step - accuracy: 0.9483 - loss: 0.4190 - val_accuracy: 0.9497 - val_loss: 0.4673 - learning_rate: 0.0010\n",
      "Epoch 42/100\n",
      "\u001b[1m51/51\u001b[0m \u001b[32m━━━━━━━━━━━━━━━━━━━━\u001b[0m\u001b[37m\u001b[0m \u001b[1m1s\u001b[0m 14ms/step - accuracy: 0.9537 - loss: 0.4015 - val_accuracy: 0.9509 - val_loss: 0.4523 - learning_rate: 0.0010\n",
      "Epoch 43/100\n",
      "\u001b[1m51/51\u001b[0m \u001b[32m━━━━━━━━━━━━━━━━━━━━\u001b[0m\u001b[37m\u001b[0m \u001b[1m1s\u001b[0m 14ms/step - accuracy: 0.9548 - loss: 0.3822 - val_accuracy: 0.9472 - val_loss: 0.4722 - learning_rate: 0.0010\n",
      "Epoch 44/100\n",
      "\u001b[1m51/51\u001b[0m \u001b[32m━━━━━━━━━━━━━━━━━━━━\u001b[0m\u001b[37m\u001b[0m \u001b[1m1s\u001b[0m 14ms/step - accuracy: 0.9506 - loss: 0.3752 - val_accuracy: 0.9485 - val_loss: 0.4513 - learning_rate: 0.0010\n",
      "Epoch 45/100\n",
      "\u001b[1m51/51\u001b[0m \u001b[32m━━━━━━━━━━━━━━━━━━━━\u001b[0m\u001b[37m\u001b[0m \u001b[1m1s\u001b[0m 14ms/step - accuracy: 0.9513 - loss: 0.3876 - val_accuracy: 0.9497 - val_loss: 0.4308 - learning_rate: 0.0010\n",
      "Epoch 46/100\n",
      "\u001b[1m51/51\u001b[0m \u001b[32m━━━━━━━━━━━━━━━━━━━━\u001b[0m\u001b[37m\u001b[0m \u001b[1m1s\u001b[0m 11ms/step - accuracy: 0.9497 - loss: 0.3804 - val_accuracy: 0.9497 - val_loss: 0.4597 - learning_rate: 0.0010\n",
      "Epoch 47/100\n",
      "\u001b[1m51/51\u001b[0m \u001b[32m━━━━━━━━━━━━━━━━━━━━\u001b[0m\u001b[37m\u001b[0m \u001b[1m1s\u001b[0m 13ms/step - accuracy: 0.9537 - loss: 0.3616 - val_accuracy: 0.9509 - val_loss: 0.4227 - learning_rate: 0.0010\n",
      "Epoch 48/100\n",
      "\u001b[1m51/51\u001b[0m \u001b[32m━━━━━━━━━━━━━━━━━━━━\u001b[0m\u001b[37m\u001b[0m \u001b[1m1s\u001b[0m 11ms/step - accuracy: 0.9516 - loss: 0.3606 - val_accuracy: 0.9497 - val_loss: 0.4431 - learning_rate: 0.0010\n",
      "Epoch 49/100\n",
      "\u001b[1m51/51\u001b[0m \u001b[32m━━━━━━━━━━━━━━━━━━━━\u001b[0m\u001b[37m\u001b[0m \u001b[1m1s\u001b[0m 13ms/step - accuracy: 0.9433 - loss: 0.3766 - val_accuracy: 0.9497 - val_loss: 0.4573 - learning_rate: 0.0010\n",
      "Epoch 50/100\n",
      "\u001b[1m51/51\u001b[0m \u001b[32m━━━━━━━━━━━━━━━━━━━━\u001b[0m\u001b[37m\u001b[0m \u001b[1m1s\u001b[0m 12ms/step - accuracy: 0.9506 - loss: 0.3642 - val_accuracy: 0.9497 - val_loss: 0.4357 - learning_rate: 0.0010\n",
      "Epoch 51/100\n",
      "\u001b[1m51/51\u001b[0m \u001b[32m━━━━━━━━━━━━━━━━━━━━\u001b[0m\u001b[37m\u001b[0m \u001b[1m1s\u001b[0m 14ms/step - accuracy: 0.9469 - loss: 0.3678 - val_accuracy: 0.9497 - val_loss: 0.4213 - learning_rate: 0.0010\n",
      "Epoch 52/100\n",
      "\u001b[1m51/51\u001b[0m \u001b[32m━━━━━━━━━━━━━━━━━━━━\u001b[0m\u001b[37m\u001b[0m \u001b[1m1s\u001b[0m 12ms/step - accuracy: 0.9552 - loss: 0.3481 - val_accuracy: 0.9509 - val_loss: 0.4494 - learning_rate: 0.0010\n",
      "Epoch 53/100\n",
      "\u001b[1m51/51\u001b[0m \u001b[32m━━━━━━━━━━━━━━━━━━━━\u001b[0m\u001b[37m\u001b[0m \u001b[1m1s\u001b[0m 12ms/step - accuracy: 0.9491 - loss: 0.3598 - val_accuracy: 0.9485 - val_loss: 0.4250 - learning_rate: 0.0010\n",
      "Epoch 54/100\n",
      "\u001b[1m51/51\u001b[0m \u001b[32m━━━━━━━━━━━━━━━━━━━━\u001b[0m\u001b[37m\u001b[0m \u001b[1m1s\u001b[0m 12ms/step - accuracy: 0.9566 - loss: 0.3439 - val_accuracy: 0.9485 - val_loss: 0.4370 - learning_rate: 0.0010\n",
      "Epoch 55/100\n",
      "\u001b[1m51/51\u001b[0m \u001b[32m━━━━━━━━━━━━━━━━━━━━\u001b[0m\u001b[37m\u001b[0m \u001b[1m1s\u001b[0m 12ms/step - accuracy: 0.9537 - loss: 0.3498 - val_accuracy: 0.9485 - val_loss: 0.4384 - learning_rate: 0.0010\n",
      "Epoch 56/100\n",
      "\u001b[1m47/51\u001b[0m \u001b[32m━━━━━━━━━━━━━━━━━━\u001b[0m\u001b[37m━━\u001b[0m \u001b[1m0s\u001b[0m 11ms/step - accuracy: 0.9497 - loss: 0.3472\n",
      "Epoch 56: ReduceLROnPlateau reducing learning rate to 0.0005000000237487257.\n",
      "\u001b[1m51/51\u001b[0m \u001b[32m━━━━━━━━━━━━━━━━━━━━\u001b[0m\u001b[37m\u001b[0m \u001b[1m1s\u001b[0m 12ms/step - accuracy: 0.9500 - loss: 0.3469 - val_accuracy: 0.9521 - val_loss: 0.4506 - learning_rate: 0.0010\n",
      "Epoch 57/100\n",
      "\u001b[1m51/51\u001b[0m \u001b[32m━━━━━━━━━━━━━━━━━━━━\u001b[0m\u001b[37m\u001b[0m \u001b[1m1s\u001b[0m 12ms/step - accuracy: 0.9518 - loss: 0.3457 - val_accuracy: 0.9521 - val_loss: 0.4234 - learning_rate: 5.0000e-04\n",
      "Epoch 58/100\n",
      "\u001b[1m51/51\u001b[0m \u001b[32m━━━━━━━━━━━━━━━━━━━━\u001b[0m\u001b[37m\u001b[0m \u001b[1m1s\u001b[0m 13ms/step - accuracy: 0.9567 - loss: 0.3309 - val_accuracy: 0.9521 - val_loss: 0.4238 - learning_rate: 5.0000e-04\n",
      "Epoch 59/100\n",
      "\u001b[1m51/51\u001b[0m \u001b[32m━━━━━━━━━━━━━━━━━━━━\u001b[0m\u001b[37m\u001b[0m \u001b[1m1s\u001b[0m 12ms/step - accuracy: 0.9578 - loss: 0.3007 - val_accuracy: 0.9497 - val_loss: 0.4216 - learning_rate: 5.0000e-04\n",
      "Epoch 60/100\n",
      "\u001b[1m51/51\u001b[0m \u001b[32m━━━━━━━━━━━━━━━━━━━━\u001b[0m\u001b[37m\u001b[0m \u001b[1m1s\u001b[0m 14ms/step - accuracy: 0.9665 - loss: 0.2946 - val_accuracy: 0.9509 - val_loss: 0.4126 - learning_rate: 5.0000e-04\n",
      "Epoch 61/100\n",
      "\u001b[1m51/51\u001b[0m \u001b[32m━━━━━━━━━━━━━━━━━━━━\u001b[0m\u001b[37m\u001b[0m \u001b[1m1s\u001b[0m 11ms/step - accuracy: 0.9606 - loss: 0.3025 - val_accuracy: 0.9497 - val_loss: 0.4261 - learning_rate: 5.0000e-04\n",
      "Epoch 62/100\n",
      "\u001b[1m51/51\u001b[0m \u001b[32m━━━━━━━━━━━━━━━━━━━━\u001b[0m\u001b[37m\u001b[0m \u001b[1m1s\u001b[0m 12ms/step - accuracy: 0.9583 - loss: 0.3018 - val_accuracy: 0.9509 - val_loss: 0.4249 - learning_rate: 5.0000e-04\n",
      "Epoch 63/100\n",
      "\u001b[1m51/51\u001b[0m \u001b[32m━━━━━━━━━━━━━━━━━━━━\u001b[0m\u001b[37m\u001b[0m \u001b[1m1s\u001b[0m 11ms/step - accuracy: 0.9634 - loss: 0.2839 - val_accuracy: 0.9497 - val_loss: 0.4270 - learning_rate: 5.0000e-04\n",
      "Epoch 64/100\n",
      "\u001b[1m51/51\u001b[0m \u001b[32m━━━━━━━━━━━━━━━━━━━━\u001b[0m\u001b[37m\u001b[0m \u001b[1m1s\u001b[0m 12ms/step - accuracy: 0.9547 - loss: 0.3063 - val_accuracy: 0.9509 - val_loss: 0.4183 - learning_rate: 5.0000e-04\n",
      "Epoch 65/100\n",
      "\u001b[1m47/51\u001b[0m \u001b[32m━━━━━━━━━━━━━━━━━━\u001b[0m\u001b[37m━━\u001b[0m \u001b[1m0s\u001b[0m 10ms/step - accuracy: 0.9612 - loss: 0.2805\n",
      "Epoch 65: ReduceLROnPlateau reducing learning rate to 0.0002500000118743628.\n",
      "\u001b[1m51/51\u001b[0m \u001b[32m━━━━━━━━━━━━━━━━━━━━\u001b[0m\u001b[37m\u001b[0m \u001b[1m1s\u001b[0m 11ms/step - accuracy: 0.9609 - loss: 0.2815 - val_accuracy: 0.9497 - val_loss: 0.4157 - learning_rate: 5.0000e-04\n",
      "Epoch 66/100\n",
      "\u001b[1m51/51\u001b[0m \u001b[32m━━━━━━━━━━━━━━━━━━━━\u001b[0m\u001b[37m\u001b[0m \u001b[1m1s\u001b[0m 11ms/step - accuracy: 0.9614 - loss: 0.2726 - val_accuracy: 0.9509 - val_loss: 0.4149 - learning_rate: 2.5000e-04\n",
      "Epoch 67/100\n",
      "\u001b[1m51/51\u001b[0m \u001b[32m━━━━━━━━━━━━━━━━━━━━\u001b[0m\u001b[37m\u001b[0m \u001b[1m1s\u001b[0m 11ms/step - accuracy: 0.9607 - loss: 0.2798 - val_accuracy: 0.9521 - val_loss: 0.4139 - learning_rate: 2.5000e-04\n",
      "Epoch 68/100\n",
      "\u001b[1m51/51\u001b[0m \u001b[32m━━━━━━━━━━━━━━━━━━━━\u001b[0m\u001b[37m\u001b[0m \u001b[1m1s\u001b[0m 11ms/step - accuracy: 0.9637 - loss: 0.2613 - val_accuracy: 0.9497 - val_loss: 0.4147 - learning_rate: 2.5000e-04\n",
      "Epoch 69/100\n",
      "\u001b[1m51/51\u001b[0m \u001b[32m━━━━━━━━━━━━━━━━━━━━\u001b[0m\u001b[37m\u001b[0m \u001b[1m1s\u001b[0m 14ms/step - accuracy: 0.9635 - loss: 0.2729 - val_accuracy: 0.9509 - val_loss: 0.4099 - learning_rate: 2.5000e-04\n",
      "Epoch 70/100\n",
      "\u001b[1m51/51\u001b[0m \u001b[32m━━━━━━━━━━━━━━━━━━━━\u001b[0m\u001b[37m\u001b[0m \u001b[1m1s\u001b[0m 14ms/step - accuracy: 0.9702 - loss: 0.2430 - val_accuracy: 0.9509 - val_loss: 0.4103 - learning_rate: 2.5000e-04\n",
      "Epoch 71/100\n",
      "\u001b[1m51/51\u001b[0m \u001b[32m━━━━━━━━━━━━━━━━━━━━\u001b[0m\u001b[37m\u001b[0m \u001b[1m1s\u001b[0m 14ms/step - accuracy: 0.9683 - loss: 0.2472 - val_accuracy: 0.9497 - val_loss: 0.4059 - learning_rate: 2.5000e-04\n",
      "Epoch 72/100\n",
      "\u001b[1m51/51\u001b[0m \u001b[32m━━━━━━━━━━━━━━━━━━━━\u001b[0m\u001b[37m\u001b[0m \u001b[1m1s\u001b[0m 11ms/step - accuracy: 0.9627 - loss: 0.2605 - val_accuracy: 0.9521 - val_loss: 0.4105 - learning_rate: 2.5000e-04\n",
      "Epoch 73/100\n",
      "\u001b[1m51/51\u001b[0m \u001b[32m━━━━━━━━━━━━━━━━━━━━\u001b[0m\u001b[37m\u001b[0m \u001b[1m1s\u001b[0m 12ms/step - accuracy: 0.9714 - loss: 0.2374 - val_accuracy: 0.9497 - val_loss: 0.4139 - learning_rate: 2.5000e-04\n",
      "Epoch 74/100\n",
      "\u001b[1m51/51\u001b[0m \u001b[32m━━━━━━━━━━━━━━━━━━━━\u001b[0m\u001b[37m\u001b[0m \u001b[1m1s\u001b[0m 15ms/step - accuracy: 0.9685 - loss: 0.2370 - val_accuracy: 0.9497 - val_loss: 0.4058 - learning_rate: 2.5000e-04\n",
      "Epoch 75/100\n",
      "\u001b[1m51/51\u001b[0m \u001b[32m━━━━━━━━━━━━━━━━━━━━\u001b[0m\u001b[37m\u001b[0m \u001b[1m1s\u001b[0m 12ms/step - accuracy: 0.9712 - loss: 0.2374 - val_accuracy: 0.9509 - val_loss: 0.4165 - learning_rate: 2.5000e-04\n",
      "Epoch 76/100\n",
      "\u001b[1m48/51\u001b[0m \u001b[32m━━━━━━━━━━━━━━━━━━\u001b[0m\u001b[37m━━\u001b[0m \u001b[1m0s\u001b[0m 10ms/step - accuracy: 0.9694 - loss: 0.2264\n",
      "Epoch 76: ReduceLROnPlateau reducing learning rate to 0.0001250000059371814.\n",
      "\u001b[1m51/51\u001b[0m \u001b[32m━━━━━━━━━━━━━━━━━━━━\u001b[0m\u001b[37m\u001b[0m \u001b[1m1s\u001b[0m 12ms/step - accuracy: 0.9692 - loss: 0.2270 - val_accuracy: 0.9521 - val_loss: 0.4096 - learning_rate: 2.5000e-04\n",
      "Epoch 77/100\n",
      "\u001b[1m51/51\u001b[0m \u001b[32m━━━━━━━━━━━━━━━━━━━━\u001b[0m\u001b[37m\u001b[0m \u001b[1m1s\u001b[0m 11ms/step - accuracy: 0.9659 - loss: 0.2377 - val_accuracy: 0.9521 - val_loss: 0.4129 - learning_rate: 1.2500e-04\n",
      "Epoch 78/100\n",
      "\u001b[1m51/51\u001b[0m \u001b[32m━━━━━━━━━━━━━━━━━━━━\u001b[0m\u001b[37m\u001b[0m \u001b[1m1s\u001b[0m 12ms/step - accuracy: 0.9680 - loss: 0.2185 - val_accuracy: 0.9509 - val_loss: 0.4167 - learning_rate: 1.2500e-04\n",
      "Epoch 79/100\n",
      "\u001b[1m51/51\u001b[0m \u001b[32m━━━━━━━━━━━━━━━━━━━━\u001b[0m\u001b[37m\u001b[0m \u001b[1m1s\u001b[0m 11ms/step - accuracy: 0.9733 - loss: 0.2161 - val_accuracy: 0.9509 - val_loss: 0.4178 - learning_rate: 1.2500e-04\n",
      "Epoch 80/100\n",
      "\u001b[1m51/51\u001b[0m \u001b[32m━━━━━━━━━━━━━━━━━━━━\u001b[0m\u001b[37m\u001b[0m \u001b[1m1s\u001b[0m 11ms/step - accuracy: 0.9704 - loss: 0.2252 - val_accuracy: 0.9497 - val_loss: 0.4116 - learning_rate: 1.2500e-04\n",
      "Epoch 81/100\n",
      "\u001b[1m51/51\u001b[0m \u001b[32m━━━━━━━━━━━━━━━━━━━━\u001b[0m\u001b[37m\u001b[0m \u001b[1m1s\u001b[0m 13ms/step - accuracy: 0.9728 - loss: 0.2258 - val_accuracy: 0.9485 - val_loss: 0.4055 - learning_rate: 1.2500e-04\n",
      "Epoch 82/100\n",
      "\u001b[1m51/51\u001b[0m \u001b[32m━━━━━━━━━━━━━━━━━━━━\u001b[0m\u001b[37m\u001b[0m \u001b[1m1s\u001b[0m 12ms/step - accuracy: 0.9699 - loss: 0.2218 - val_accuracy: 0.9485 - val_loss: 0.4076 - learning_rate: 1.2500e-04\n",
      "Epoch 83/100\n",
      "\u001b[1m51/51\u001b[0m \u001b[32m━━━━━━━━━━━━━━━━━━━━\u001b[0m\u001b[37m\u001b[0m \u001b[1m1s\u001b[0m 11ms/step - accuracy: 0.9774 - loss: 0.2085 - val_accuracy: 0.9485 - val_loss: 0.4079 - learning_rate: 1.2500e-04\n",
      "Epoch 84/100\n",
      "\u001b[1m51/51\u001b[0m \u001b[32m━━━━━━━━━━━━━━━━━━━━\u001b[0m\u001b[37m\u001b[0m \u001b[1m1s\u001b[0m 14ms/step - accuracy: 0.9760 - loss: 0.2067 - val_accuracy: 0.9485 - val_loss: 0.4027 - learning_rate: 1.2500e-04\n",
      "Epoch 85/100\n",
      "\u001b[1m51/51\u001b[0m \u001b[32m━━━━━━━━━━━━━━━━━━━━\u001b[0m\u001b[37m\u001b[0m \u001b[1m1s\u001b[0m 13ms/step - accuracy: 0.9725 - loss: 0.2127 - val_accuracy: 0.9472 - val_loss: 0.4096 - learning_rate: 1.2500e-04\n",
      "Epoch 86/100\n",
      "\u001b[1m51/51\u001b[0m \u001b[32m━━━━━━━━━━━━━━━━━━━━\u001b[0m\u001b[37m\u001b[0m \u001b[1m1s\u001b[0m 12ms/step - accuracy: 0.9734 - loss: 0.2073 - val_accuracy: 0.9497 - val_loss: 0.4102 - learning_rate: 1.2500e-04\n",
      "Epoch 87/100\n",
      "\u001b[1m51/51\u001b[0m \u001b[32m━━━━━━━━━━━━━━━━━━━━\u001b[0m\u001b[37m\u001b[0m \u001b[1m1s\u001b[0m 12ms/step - accuracy: 0.9627 - loss: 0.2381 - val_accuracy: 0.9485 - val_loss: 0.4147 - learning_rate: 1.2500e-04\n",
      "Epoch 88/100\n",
      "\u001b[1m51/51\u001b[0m \u001b[32m━━━━━━━━━━━━━━━━━━━━\u001b[0m\u001b[37m\u001b[0m \u001b[1m1s\u001b[0m 13ms/step - accuracy: 0.9702 - loss: 0.2152 - val_accuracy: 0.9472 - val_loss: 0.4117 - learning_rate: 1.2500e-04\n",
      "Epoch 89/100\n",
      "\u001b[1m48/51\u001b[0m \u001b[32m━━━━━━━━━━━━━━━━━━\u001b[0m\u001b[37m━━\u001b[0m \u001b[1m0s\u001b[0m 12ms/step - accuracy: 0.9713 - loss: 0.2158\n",
      "Epoch 89: ReduceLROnPlateau reducing learning rate to 6.25000029685907e-05.\n",
      "\u001b[1m51/51\u001b[0m \u001b[32m━━━━━━━━━━━━━━━━━━━━\u001b[0m\u001b[37m\u001b[0m \u001b[1m1s\u001b[0m 13ms/step - accuracy: 0.9713 - loss: 0.2158 - val_accuracy: 0.9485 - val_loss: 0.4115 - learning_rate: 1.2500e-04\n",
      "Epoch 90/100\n",
      "\u001b[1m51/51\u001b[0m \u001b[32m━━━━━━━━━━━━━━━━━━━━\u001b[0m\u001b[37m\u001b[0m \u001b[1m1s\u001b[0m 12ms/step - accuracy: 0.9672 - loss: 0.2150 - val_accuracy: 0.9509 - val_loss: 0.4101 - learning_rate: 6.2500e-05\n",
      "Epoch 91/100\n",
      "\u001b[1m51/51\u001b[0m \u001b[32m━━━━━━━━━━━━━━━━━━━━\u001b[0m\u001b[37m\u001b[0m \u001b[1m1s\u001b[0m 12ms/step - accuracy: 0.9687 - loss: 0.2102 - val_accuracy: 0.9485 - val_loss: 0.4108 - learning_rate: 6.2500e-05\n",
      "Epoch 92/100\n",
      "\u001b[1m51/51\u001b[0m \u001b[32m━━━━━━━━━━━━━━━━━━━━\u001b[0m\u001b[37m\u001b[0m \u001b[1m1s\u001b[0m 12ms/step - accuracy: 0.9705 - loss: 0.2130 - val_accuracy: 0.9509 - val_loss: 0.4141 - learning_rate: 6.2500e-05\n",
      "Epoch 93/100\n",
      "\u001b[1m51/51\u001b[0m \u001b[32m━━━━━━━━━━━━━━━━━━━━\u001b[0m\u001b[37m\u001b[0m \u001b[1m1s\u001b[0m 13ms/step - accuracy: 0.9687 - loss: 0.2103 - val_accuracy: 0.9472 - val_loss: 0.4122 - learning_rate: 6.2500e-05\n",
      "Epoch 94/100\n",
      "\u001b[1m46/51\u001b[0m \u001b[32m━━━━━━━━━━━━━━━━━━\u001b[0m\u001b[37m━━\u001b[0m \u001b[1m0s\u001b[0m 11ms/step - accuracy: 0.9759 - loss: 0.2012\n",
      "Epoch 94: ReduceLROnPlateau reducing learning rate to 3.125000148429535e-05.\n",
      "\u001b[1m51/51\u001b[0m \u001b[32m━━━━━━━━━━━━━━━━━━━━\u001b[0m\u001b[37m\u001b[0m \u001b[1m1s\u001b[0m 12ms/step - accuracy: 0.9757 - loss: 0.2014 - val_accuracy: 0.9472 - val_loss: 0.4121 - learning_rate: 6.2500e-05\n",
      "Model training completed.\n"
     ]
    }
   ],
   "source": [
    "# Train the model with the training data and validate on test data using callbacks\n",
    "history = model.fit(X_train_reshaped, y_train_categorical, epochs=100, batch_size=64, validation_data=(X_test_reshaped, y_test_categorical), callbacks=callbacks, verbose=1)\n",
    "print(\"Model training completed.\")\n"
   ]
  },
  {
   "cell_type": "markdown",
   "metadata": {},
   "source": [
    "**Load Best Weights and Evaluate**"
   ]
  },
  {
   "cell_type": "code",
   "execution_count": 123,
   "metadata": {},
   "outputs": [
    {
     "ename": "BadZipFile",
     "evalue": "File is not a zip file",
     "output_type": "error",
     "traceback": [
      "\u001b[1;31m---------------------------------------------------------------------------\u001b[0m",
      "\u001b[1;31mBadZipFile\u001b[0m                                Traceback (most recent call last)",
      "Cell \u001b[1;32mIn[123], line 2\u001b[0m\n\u001b[0;32m      1\u001b[0m \u001b[38;5;66;03m# Load the best model weights from training\u001b[39;00m\n\u001b[1;32m----> 2\u001b[0m \u001b[43mmodel\u001b[49m\u001b[38;5;241;43m.\u001b[39;49m\u001b[43mload_weights\u001b[49m\u001b[43m(\u001b[49m\u001b[38;5;124;43m'\u001b[39;49m\u001b[38;5;124;43mbest_residual_model.keras\u001b[39;49m\u001b[38;5;124;43m'\u001b[39;49m\u001b[43m)\u001b[49m\n\u001b[0;32m      3\u001b[0m \u001b[38;5;28mprint\u001b[39m(\u001b[38;5;124m\"\u001b[39m\u001b[38;5;124mLoaded best model weights.\u001b[39m\u001b[38;5;124m\"\u001b[39m)\n\u001b[0;32m      5\u001b[0m \u001b[38;5;66;03m# Evaluate CNN\u001b[39;00m\n",
      "File \u001b[1;32md:\\HEART_DISEASE_PREDICTION\\hdp\\Lib\\site-packages\\keras\\src\\utils\\traceback_utils.py:122\u001b[0m, in \u001b[0;36mfilter_traceback.<locals>.error_handler\u001b[1;34m(*args, **kwargs)\u001b[0m\n\u001b[0;32m    119\u001b[0m     filtered_tb \u001b[38;5;241m=\u001b[39m _process_traceback_frames(e\u001b[38;5;241m.\u001b[39m__traceback__)\n\u001b[0;32m    120\u001b[0m     \u001b[38;5;66;03m# To get the full stack trace, call:\u001b[39;00m\n\u001b[0;32m    121\u001b[0m     \u001b[38;5;66;03m# `keras.config.disable_traceback_filtering()`\u001b[39;00m\n\u001b[1;32m--> 122\u001b[0m     \u001b[38;5;28;01mraise\u001b[39;00m e\u001b[38;5;241m.\u001b[39mwith_traceback(filtered_tb) \u001b[38;5;28;01mfrom\u001b[39;00m \u001b[38;5;28;01mNone\u001b[39;00m\n\u001b[0;32m    123\u001b[0m \u001b[38;5;28;01mfinally\u001b[39;00m:\n\u001b[0;32m    124\u001b[0m     \u001b[38;5;28;01mdel\u001b[39;00m filtered_tb\n",
      "File \u001b[1;32m~\\AppData\\Local\\Programs\\Python\\Python312\\Lib\\zipfile\\__init__.py:1349\u001b[0m, in \u001b[0;36mZipFile.__init__\u001b[1;34m(self, file, mode, compression, allowZip64, compresslevel, strict_timestamps, metadata_encoding)\u001b[0m\n\u001b[0;32m   1347\u001b[0m \u001b[38;5;28;01mtry\u001b[39;00m:\n\u001b[0;32m   1348\u001b[0m     \u001b[38;5;28;01mif\u001b[39;00m mode \u001b[38;5;241m==\u001b[39m \u001b[38;5;124m'\u001b[39m\u001b[38;5;124mr\u001b[39m\u001b[38;5;124m'\u001b[39m:\n\u001b[1;32m-> 1349\u001b[0m         \u001b[38;5;28mself\u001b[39m\u001b[38;5;241m.\u001b[39m_RealGetContents()\n\u001b[0;32m   1350\u001b[0m     \u001b[38;5;28;01melif\u001b[39;00m mode \u001b[38;5;129;01min\u001b[39;00m (\u001b[38;5;124m'\u001b[39m\u001b[38;5;124mw\u001b[39m\u001b[38;5;124m'\u001b[39m, \u001b[38;5;124m'\u001b[39m\u001b[38;5;124mx\u001b[39m\u001b[38;5;124m'\u001b[39m):\n\u001b[0;32m   1351\u001b[0m         \u001b[38;5;66;03m# set the modified flag so central directory gets written\u001b[39;00m\n\u001b[0;32m   1352\u001b[0m         \u001b[38;5;66;03m# even if no files are added to the archive\u001b[39;00m\n\u001b[0;32m   1353\u001b[0m         \u001b[38;5;28mself\u001b[39m\u001b[38;5;241m.\u001b[39m_didModify \u001b[38;5;241m=\u001b[39m \u001b[38;5;28;01mTrue\u001b[39;00m\n",
      "File \u001b[1;32m~\\AppData\\Local\\Programs\\Python\\Python312\\Lib\\zipfile\\__init__.py:1416\u001b[0m, in \u001b[0;36mZipFile._RealGetContents\u001b[1;34m(self)\u001b[0m\n\u001b[0;32m   1414\u001b[0m     \u001b[38;5;28;01mraise\u001b[39;00m BadZipFile(\u001b[38;5;124m\"\u001b[39m\u001b[38;5;124mFile is not a zip file\u001b[39m\u001b[38;5;124m\"\u001b[39m)\n\u001b[0;32m   1415\u001b[0m \u001b[38;5;28;01mif\u001b[39;00m \u001b[38;5;129;01mnot\u001b[39;00m endrec:\n\u001b[1;32m-> 1416\u001b[0m     \u001b[38;5;28;01mraise\u001b[39;00m BadZipFile(\u001b[38;5;124m\"\u001b[39m\u001b[38;5;124mFile is not a zip file\u001b[39m\u001b[38;5;124m\"\u001b[39m)\n\u001b[0;32m   1417\u001b[0m \u001b[38;5;28;01mif\u001b[39;00m \u001b[38;5;28mself\u001b[39m\u001b[38;5;241m.\u001b[39mdebug \u001b[38;5;241m>\u001b[39m \u001b[38;5;241m1\u001b[39m:\n\u001b[0;32m   1418\u001b[0m     \u001b[38;5;28mprint\u001b[39m(endrec)\n",
      "\u001b[1;31mBadZipFile\u001b[0m: File is not a zip file"
     ]
    }
   ],
   "source": [
    "# Load the best model weights from training\n",
    "model.load_weights('best_residual_model.keras')\n",
    "print(\"Loaded best model weights.\")\n",
    "\n",
    "# Evaluate CNN\n",
    "cnn_pred = model.predict(X_test_reshaped).argmax(axis=1)\n",
    "print(\"CNN Accuracy:\", accuracy_score(y_test, cnn_pred))\n",
    "print(\"CNN Classification Report:\\n\", classification_report(y_test, cnn_pred))\n",
    "\n",
    "# Plot confusion matrix\n",
    "plt.figure(figsize=(6,5))\n",
    "sns.heatmap(confusion_matrix(y_test, cnn_pred), annot=True, fmt=\"d\", cmap=\"Reds\", cbar=False)\n",
    "plt.title(\"CNN Model - Confusion Matrix\")\n",
    "plt.show()\n"
   ]
  },
  {
   "cell_type": "code",
   "execution_count": 1,
   "metadata": {},
   "outputs": [
    {
     "data": {
      "text/html": [
       "<h1 style='color: #00796B; font-size: 30px; text-align: center;'>Patient Health Prediction System</h1>"
      ],
      "text/plain": [
       "<IPython.core.display.HTML object>"
      ]
     },
     "metadata": {},
     "output_type": "display_data"
    },
    {
     "data": {
      "text/html": [
       "<p style='color: #616161; font-size: 16px; text-align: center;'>Please provide the patient's health details below and click <strong style='color: #388E3C;'>Predict Disease</strong> for a health assessment.</p>"
      ],
      "text/plain": [
       "<IPython.core.display.HTML object>"
      ]
     },
     "metadata": {},
     "output_type": "display_data"
    },
    {
     "data": {
      "application/vnd.jupyter.widget-view+json": {
       "model_id": "9a37fe853578470e9d1459ca22e0a85f",
       "version_major": 2,
       "version_minor": 0
      },
      "text/plain": [
       "HBox(children=(VBox(children=(IntSlider(value=172, description='Height Cm', layout=Layout(width='100%'), max=2…"
      ]
     },
     "metadata": {},
     "output_type": "display_data"
    },
    {
     "data": {
      "application/vnd.jupyter.widget-view+json": {
       "model_id": "1839e99ca67e4aa3bb3c3eb6f19accd6",
       "version_major": 2,
       "version_minor": 0
      },
      "text/plain": [
       "HBox(children=(Button(button_style='success', description='Predict Disease', layout=Layout(padding='10px', wid…"
      ]
     },
     "metadata": {},
     "output_type": "display_data"
    },
    {
     "data": {
      "application/vnd.jupyter.widget-view+json": {
       "model_id": "a467e66e89834578a545f58e6ede741a",
       "version_major": 2,
       "version_minor": 0
      },
      "text/plain": [
       "Output(layout=Layout(border_bottom='2px solid #00796B', border_left='2px solid #00796B', border_right='2px sol…"
      ]
     },
     "metadata": {},
     "output_type": "display_data"
    }
   ],
   "source": [
    "# Import necessary libraries\n",
    "import pandas as pd\n",
    "import numpy as np\n",
    "from ipywidgets import widgets, Layout, HBox, VBox\n",
    "from IPython.display import display, HTML, clear_output\n",
    "from sklearn.preprocessing import StandardScaler, LabelEncoder\n",
    "from tensorflow.keras.models import load_model\n",
    "\n",
    "# Load your dataset and set up encoders and scaler\n",
    "data_path = 'Patient_Health_Data.csv'\n",
    "patient_data = pd.read_csv(data_path)\n",
    "\n",
    "# Drop the 'Patient_ID' column if it exists\n",
    "patient_data = patient_data.drop(columns=['Patient_ID'], errors='ignore')\n",
    "\n",
    "# Splitting 'Blood_Pressure' into 'Systolic_BP' and 'Diastolic_BP'\n",
    "patient_data[['Systolic_BP', 'Diastolic_BP']] = patient_data['Blood_Pressure'].str.split('/', expand=True)\n",
    "\n",
    "# Convert new columns to numeric, handle non-numeric entries by setting them to NaN\n",
    "patient_data['Systolic_BP'] = pd.to_numeric(patient_data['Systolic_BP'], errors='coerce')\n",
    "patient_data['Diastolic_BP'] = pd.to_numeric(patient_data['Diastolic_BP'], errors='coerce')\n",
    "\n",
    "# Drop the original 'Blood_Pressure' column as it's no longer needed\n",
    "patient_data = patient_data.drop(columns=['Blood_Pressure'])\n",
    "\n",
    "# Prepare label encoders and scaler based on training\n",
    "label_encoder = LabelEncoder()\n",
    "patient_data['Disease_Predictions'] = patient_data['Disease_Predictions'].fillna(patient_data['Disease_Predictions'].mode()[0])\n",
    "y_encoded = label_encoder.fit_transform(patient_data['Disease_Predictions'])\n",
    "\n",
    "# Fill missing values for numerical columns\n",
    "patient_data.fillna(patient_data.median(numeric_only=True), inplace=True)\n",
    "\n",
    "# Fill missing values for categorical columns\n",
    "for col in patient_data.select_dtypes(include=['object']).columns:\n",
    "    patient_data[col] = patient_data[col].fillna(patient_data[col].mode()[0])\n",
    "\n",
    "# Define features and scaler based on training data\n",
    "numeric_features = patient_data.select_dtypes(include=[np.number]).columns.drop(['Disease_Predictions'], errors='ignore').tolist()\n",
    "scaler = StandardScaler()\n",
    "X_scaled = scaler.fit_transform(patient_data[numeric_features])\n",
    "\n",
    "# Load pre-trained CNN model\n",
    "model = load_model('best_residual_model.keras')\n",
    "\n",
    "# Display title and introduction with enhanced styling\n",
    "display(HTML(\"<h1 style='color: #00796B; font-size: 30px; text-align: center;'>Patient Health Prediction System</h1>\"))\n",
    "display(HTML(\"<p style='color: #616161; font-size: 16px; text-align: center;'>Please provide the patient's health details below and click <strong style='color: #388E3C;'>Predict Disease</strong> for a health assessment.</p>\"))\n",
    "\n",
    "# Set up widgets with color themes, tooltips, and placeholders\n",
    "feature_widgets = {}\n",
    "\n",
    "# Create interactive sliders for numerical features with colorful handles and descriptions\n",
    "for feature in numeric_features:\n",
    "    tooltip = f\"Set the value for {feature.replace('_', ' ')}\"\n",
    "    if feature == 'Systolic_BP':\n",
    "        feature_widgets[feature] = widgets.IntSlider(value=120, min=40, max=200, step=1, description=\"Systolic BP\",\n",
    "                                                     style={'description_width': 'initial', 'handle_color': '#29B6F6'}, layout=Layout(width='100%'), tooltip=tooltip)\n",
    "    elif feature == 'Diastolic_BP':\n",
    "        feature_widgets[feature] = widgets.IntSlider(value=80, min=40, max=120, step=1, description=\"Diastolic BP\",\n",
    "                                                     style={'description_width': 'initial', 'handle_color': '#EF5350'}, layout=Layout(width='100%'), tooltip=tooltip)\n",
    "    elif feature == 'Temperature_C':\n",
    "        feature_widgets[feature] = widgets.FloatSlider(value=37.0, min=30.0, max=44.0, step=0.1, description=\"Temperature\",\n",
    "                                                       style={'description_width': 'initial', 'handle_color': '#66BB6A'}, layout=Layout(width='100%'), tooltip=tooltip)\n",
    "    else:\n",
    "        min_val = patient_data[feature].min()\n",
    "        max_val = patient_data[feature].max()\n",
    "        feature_widgets[feature] = widgets.IntSlider(value=int((min_val + max_val) / 2),\n",
    "                                                     min=int(min_val),\n",
    "                                                     max=int(max_val),\n",
    "                                                     step=1,\n",
    "                                                     description=feature.replace('_', ' ').title(),\n",
    "                                                     style={'description_width': 'initial', 'handle_color': '#FFA726'}, layout=Layout(width='100%'), tooltip=tooltip)\n",
    "\n",
    "# Dropdown menus for categorical features with placeholders and colors\n",
    "for feature in patient_data.select_dtypes(include=['object']).columns:\n",
    "    if feature != 'Disease_Predictions':\n",
    "        unique_values = patient_data[feature].dropna().unique()\n",
    "        options = [('Select...', None)] + [(str(val), str(val)) for val in sorted(unique_values)]\n",
    "        feature_widgets[feature] = widgets.Dropdown(options=options, description=feature.replace('_', ' ').title(),\n",
    "                                                    style={'description_width': 'initial'}, layout=Layout(width='100%'))\n",
    "\n",
    "# Organize the input widgets into two columns with stylish borders\n",
    "numeric_widgets = VBox([feature_widgets[feature] for feature in numeric_features], layout=Layout(width='48%', border='2px solid #B2DFDB', padding='20px', margin='10px'))\n",
    "categorical_widgets = VBox([feature_widgets[feature] for feature in patient_data.select_dtypes(include=['object']).columns if feature != 'Disease_Predictions'],\n",
    "                           layout=Layout(width='48%', border='2px solid #FFCDD2', padding='20px', margin='10px'))\n",
    "\n",
    "# Display organized input sections side by side\n",
    "display(HBox([numeric_widgets, categorical_widgets]))\n",
    "\n",
    "# Prediction button with enhanced styling and center alignment\n",
    "predict_button = widgets.Button(description=\"Predict Disease\", button_style='success', layout=Layout(width='200px', padding='10px'), tooltip=\"Click to predict disease\")\n",
    "output = widgets.Output(layout=Layout(border='2px solid #00796B', padding='20px', margin='15px 0', background_color='#E0F2F1'))\n",
    "\n",
    "# Define the prediction function with output formatting\n",
    "def on_predict_button_clicked(b):\n",
    "    with output:\n",
    "        clear_output()  # Clear previous output for fresh predictions\n",
    "        \n",
    "        # Gather selected feature values\n",
    "        selected_features = {feature: widget.value for feature, widget in feature_widgets.items()}\n",
    "        \n",
    "        # Prepare input data\n",
    "        input_data = pd.DataFrame([selected_features])\n",
    "        \n",
    "        # Fill missing values in input data for numeric features\n",
    "        for col in numeric_features:\n",
    "            if col in input_data.columns and input_data[col].isnull().any():\n",
    "                input_data[col].fillna(patient_data[col].median(), inplace=True)\n",
    "        \n",
    "        # Fill missing values in input data for categorical features, excluding 'Disease_Predictions'\n",
    "        for col in patient_data.select_dtypes(include=['object']).columns:\n",
    "            if col in input_data.columns and col != 'Disease_Predictions' and input_data[col].isnull().any():\n",
    "                input_data[col].fillna(patient_data[col].mode()[0], inplace=True)\n",
    "\n",
    "        # Encode categorical features and align columns\n",
    "        input_data = pd.get_dummies(input_data)\n",
    "        expected_features = pd.get_dummies(patient_data.drop(columns=['Disease_Predictions'])).columns[:23]  # Ensure 23 columns\n",
    "        input_data = input_data.reindex(columns=expected_features, fill_value=0)\n",
    "\n",
    "        # Scale numerical features\n",
    "        input_data[numeric_features] = scaler.transform(input_data[numeric_features])\n",
    "\n",
    "        # Ensure input_data is of type float32\n",
    "        input_data = input_data.astype(np.float32)\n",
    "\n",
    "        # Reshape input_data to match the model's expected input shape (1, 23, 1)\n",
    "        cnn_input = np.expand_dims(input_data.values, axis=2)\n",
    "\n",
    "        # Make prediction\n",
    "        prediction = model.predict(cnn_input)\n",
    "        predicted_class = prediction.argmax(axis=1).item()\n",
    "        disease = label_encoder.inverse_transform([predicted_class])\n",
    "        \n",
    "        display(HTML(f\"<h3 style='color: #00796B;'>Prediction Result</h3>\"))\n",
    "        display(HTML(f\"<p style='font-size: 16px; color: #424242;'>Based on the input parameters, the predicted disease is: <strong style='color: #D32F2F;'>{disease[0]}</strong></p>\"))\n",
    "\n",
    "# Set up button interaction\n",
    "predict_button.on_click(on_predict_button_clicked)\n",
    "\n",
    "# Display the button in the center and output area below it\n",
    "display(HBox([predict_button], layout=Layout(justify_content='center')))\n",
    "display(output)\n"
   ]
  }
 ],
 "metadata": {
  "kernelspec": {
   "display_name": "hdp",
   "language": "python",
   "name": "python3"
  },
  "language_info": {
   "codemirror_mode": {
    "name": "ipython",
    "version": 3
   },
   "file_extension": ".py",
   "mimetype": "text/x-python",
   "name": "python",
   "nbconvert_exporter": "python",
   "pygments_lexer": "ipython3",
   "version": "3.12.5"
  }
 },
 "nbformat": 4,
 "nbformat_minor": 2
}
